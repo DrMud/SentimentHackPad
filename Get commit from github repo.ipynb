{
 "cells": [
  {
   "cell_type": "code",
   "execution_count": 1,
   "metadata": {
    "collapsed": true
   },
   "outputs": [],
   "source": [
    "import requests\n",
    "from bs4 import BeautifulSoup"
   ]
  },
  {
   "cell_type": "code",
   "execution_count": 2,
   "metadata": {
    "collapsed": true
   },
   "outputs": [],
   "source": [
    "def getCommitInfo(url):\n",
    "    \"\"\"\n",
    "    Get all the commits name and the time from a GitHub repo\n",
    "    \n",
    "    Parameters\n",
    "    ----------\n",
    "    url: str\n",
    "      Link to repository\n",
    "      \n",
    "    Return\n",
    "    ------\n",
    "    names: like-array\n",
    "      Array with all the commits title\n",
    "    times: like-array\n",
    "      Array with the time of the commits\n",
    "    \"\"\"\n",
    "    if not url.endswith('/'):\n",
    "        url += '/'\n",
    "    url += 'commits/master'\n",
    "    \n",
    "    # Get the url\n",
    "    html = requests.get(url)\n",
    "    # Create the parser\n",
    "    soup = BeautifulSoup(html.text, 'html.parser')\n",
    "    \n",
    "    # Table with all the commits\n",
    "    class_prop = {\"class\":\"commits-listing commits-listing-padded js-navigation-container js-active-navigation-container\"}\n",
    "    commits_table = soup.find('div', attrs=class_prop)\n",
    "    \n",
    "    # Commit title\n",
    "    names = []\n",
    "    for title in commits_table.find_all('a', attrs={'class': \"message\"}):\n",
    "        names.append(title.attrs['title'])\n",
    "    \n",
    "    # Commit time\n",
    "    times = []\n",
    "    for time in commits_table.find_all('relative-time'):\n",
    "        times.append(time.attrs['datetime'])\n",
    "    \n",
    "    return names, times"
   ]
  },
  {
   "cell_type": "code",
   "execution_count": 3,
   "metadata": {
    "collapsed": false
   },
   "outputs": [
    {
     "data": {
      "text/plain": [
       "(['Adding Notebook',\n",
       "  'Changing tabs to spaces',\n",
       "  'Next data and hacking files',\n",
       "  'Python Notebook for Classifying Attempt',\n",
       "  'Moving things around.',\n",
       "  'Updating README',\n",
       "  'Adding essential data and script files',\n",
       "  'Update README.md',\n",
       "  'Update README.md',\n",
       "  'Update README.md',\n",
       "  'Adding some results files...',\n",
       "  'first commit'],\n",
       " ['2016-09-02T00:22:39Z',\n",
       "  '2016-09-02T00:17:17Z',\n",
       "  '2016-09-02T00:11:18Z',\n",
       "  '2016-08-31T01:35:07Z',\n",
       "  '2016-08-31T00:48:20Z',\n",
       "  '2016-08-31T00:46:28Z',\n",
       "  '2016-08-31T00:44:13Z',\n",
       "  '2016-08-31T00:14:23Z',\n",
       "  '2016-08-31T00:07:30Z',\n",
       "  '2016-08-31T00:06:47Z',\n",
       "  '2016-08-31T00:01:59Z',\n",
       "  '2016-08-30T23:59:10Z'])"
      ]
     },
     "execution_count": 3,
     "metadata": {},
     "output_type": "execute_result"
    }
   ],
   "source": [
    "url = 'https://github.com/rudyphd/X-class'\n",
    "getCommitInfo(url)"
   ]
  },
  {
   "cell_type": "code",
   "execution_count": null,
   "metadata": {
    "collapsed": true
   },
   "outputs": [],
   "source": []
  }
 ],
 "metadata": {
  "kernelspec": {
   "display_name": "Python 3",
   "language": "python",
   "name": "python3"
  },
  "language_info": {
   "codemirror_mode": {
    "name": "ipython",
    "version": 3
   },
   "file_extension": ".py",
   "mimetype": "text/x-python",
   "name": "python",
   "nbconvert_exporter": "python",
   "pygments_lexer": "ipython3",
   "version": "3.5.2"
  }
 },
 "nbformat": 4,
 "nbformat_minor": 0
}
