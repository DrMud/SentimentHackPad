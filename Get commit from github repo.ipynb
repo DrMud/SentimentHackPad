{
 "cells": [
  {
   "cell_type": "code",
   "execution_count": 1,
   "metadata": {
    "collapsed": true
   },
   "outputs": [],
   "source": [
    "try:\n",
    "    from urllib.request import urlopen, Request\n",
    "except ImportError:\n",
    "    from urllib2 import urlopen, Request\n",
    "from bs4 import BeautifulSoup"
   ]
  },
  {
   "cell_type": "code",
   "execution_count": 32,
   "metadata": {
    "collapsed": false
   },
   "outputs": [],
   "source": [
    "def getCommitInfo(url):\n",
    "    \"\"\"\n",
    "    Get all the commits name and the time from a GitHub repo\n",
    "    \n",
    "    Parameters\n",
    "    ----------\n",
    "    url: str\n",
    "      Link to repository\n",
    "      \n",
    "    Return\n",
    "    ------\n",
    "    names: like-array\n",
    "      Array with all the commits title\n",
    "    times: like-array\n",
    "      Array with the time of the commits\n",
    "    \"\"\"\n",
    "    if not url.endswith('/'):\n",
    "        url += '/'\n",
    "    url += 'commits/master'\n",
    "    \n",
    "    # Get the url\n",
    "    html = urlopen(url)\n",
    "    # Create the parser\n",
    "    soup = BeautifulSoup(html.read(), 'html.parser')\n",
    "    \n",
    "    # Table with all the commits\n",
    "    class_prop = {\"class\":\"commits-listing commits-listing-padded js-navigation-container js-active-navigation-container\"}\n",
    "    commits_table = soup.find('div', attrs=class_prop)\n",
    "    \n",
    "    new_names = []\n",
    "    for text_box in commits_table.find_all('p', attrs={'class': 'commit-title'}):\n",
    "        for text in text_box.find('a', attrs={'class': \"message\"}):\n",
    "        #    print(text.attrs['title'])\n",
    "            new_names.append(text)\n",
    "    \n",
    "    # Commit title\n",
    "    #names = []\n",
    "    #for title in commits_table.find_all('a', attrs={'class': \"message\"}):\n",
    "    #    names.append(title.attrs['title'])\n",
    "    \n",
    "    # Commit time\n",
    "    times = []\n",
    "    for time in commits_table.find_all('relative-time'):\n",
    "        times.append(time.attrs['datetime'])\n",
    "\n",
    "    return new_names, times"
   ]
  },
  {
   "cell_type": "code",
   "execution_count": 9,
   "metadata": {
    "collapsed": false
   },
   "outputs": [
    {
     "data": {
      "text/plain": [
       "([u'Adding Notebook',\n",
       "  u'Changing tabs to spaces',\n",
       "  u'Next data and hacking files',\n",
       "  u'Python Notebook for Classifying Attempt',\n",
       "  u'Moving things around.',\n",
       "  u'Updating README',\n",
       "  u'Adding essential data and script files',\n",
       "  u'Update README.md',\n",
       "  u'Update README.md',\n",
       "  u'Update README.md',\n",
       "  u'Adding some results files...',\n",
       "  u'first commit'],\n",
       " [u'2016-09-02T00:22:39Z',\n",
       "  u'2016-09-02T00:17:17Z',\n",
       "  u'2016-09-02T00:11:18Z',\n",
       "  u'2016-08-31T01:35:07Z',\n",
       "  u'2016-08-31T00:48:20Z',\n",
       "  u'2016-08-31T00:46:28Z',\n",
       "  u'2016-08-31T00:44:13Z',\n",
       "  u'2016-08-31T00:14:23Z',\n",
       "  u'2016-08-31T00:07:30Z',\n",
       "  u'2016-08-31T00:06:47Z',\n",
       "  u'2016-08-31T00:01:59Z',\n",
       "  u'2016-08-30T23:59:10Z'])"
      ]
     },
     "execution_count": 9,
     "metadata": {},
     "output_type": "execute_result"
    }
   ],
   "source": [
    "url = 'https://github.com/rudyphd/X-class'\n",
    "getCommitInfo(url)"
   ]
  },
  {
   "cell_type": "code",
   "execution_count": 35,
   "metadata": {
    "collapsed": false
   },
   "outputs": [
    {
     "name": "stdout",
     "output_type": "stream",
     "text": [
      "(31, 31)\n"
     ]
    }
   ],
   "source": [
    "url = 'https://github.com/astrohackweek/astrohackweek2016'\n",
    "names, times = getCommitInfo(url)\n",
    "print(len(names), len(times))"
   ]
  },
  {
   "cell_type": "code",
   "execution_count": 36,
   "metadata": {
    "collapsed": false
   },
   "outputs": [
    {
     "data": {
      "text/plain": [
       "[u'Merge pull request',\n",
       " u'Adding Theano example to autodiff notebook',\n",
       " u'move autograd material to top',\n",
       " u'git ignore notebook checkpoints',\n",
       " u'add forward diff notebook',\n",
       " u'add autograd material to autodiff breakout',\n",
       " u'Merge pull request',\n",
       " u'tensor flow and autograd.',\n",
       " u'Merge pull request',\n",
       " u'Merge pull request',\n",
       " u'optimization slides added (grigor)',\n",
       " u'The notebook that produced the figure in optimization-concept.svg.',\n",
       " u'Add the slides for optimization basic concepts.',\n",
       " u'Merge pull request',\n",
       " u'Merge pull request',\n",
       " u'adding sampling notebooks',\n",
       " u'Merge pull request',\n",
       " u'The exercise and pdf with slides',\n",
       " u\"Merge remote-tracking branch 'AstroHackWeek/master'\",\n",
       " u'Added maths and GPy kernel comparison',\n",
       " u'Merge pull request',\n",
       " u'Added manual GP computation',\n",
       " u'Merge pull request',\n",
       " u'Add interactive jupyter notebook tutorials',\n",
       " u'add gaussian process breakout notebook',\n",
       " u'Merge pull request',\n",
       " u'added some outlier detection',\n",
       " u'initial commit of lecture material for machine learning',\n",
       " u'add gitter chat badge to README',\n",
       " u'create directories for materials',\n",
       " u'Initial commit']"
      ]
     },
     "execution_count": 36,
     "metadata": {},
     "output_type": "execute_result"
    }
   ],
   "source": [
    "names"
   ]
  },
  {
   "cell_type": "code",
   "execution_count": null,
   "metadata": {
    "collapsed": true
   },
   "outputs": [],
   "source": []
  }
 ],
 "metadata": {
  "kernelspec": {
   "display_name": "Python 2",
   "language": "python",
   "name": "python2"
  },
  "language_info": {
   "codemirror_mode": {
    "name": "ipython",
    "version": 2
   },
   "file_extension": ".py",
   "mimetype": "text/x-python",
   "name": "python",
   "nbconvert_exporter": "python",
   "pygments_lexer": "ipython2",
   "version": "2.7.10"
  }
 },
 "nbformat": 4,
 "nbformat_minor": 0
}
