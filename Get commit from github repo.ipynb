{
 "cells": [
  {
   "cell_type": "code",
   "execution_count": 1,
   "metadata": {
    "collapsed": true
   },
   "outputs": [],
   "source": [
    "try:\n",
    "    from urllib.request import urlopen, Request\n",
    "except ImportError:\n",
    "    from urllib2 import urlopen, Request\n",
    "from bs4 import BeautifulSoup"
   ]
  },
  {
   "cell_type": "code",
   "execution_count": 8,
   "metadata": {
    "collapsed": true
   },
   "outputs": [],
   "source": [
    "def getCommitInfo(url):\n",
    "    \"\"\"\n",
    "    Get all the commits name and the time from a GitHub repo\n",
    "    \n",
    "    Parameters\n",
    "    ----------\n",
    "    url: str\n",
    "      Link to repository\n",
    "      \n",
    "    Return\n",
    "    ------\n",
    "    names: like-array\n",
    "      Array with all the commits title\n",
    "    times: like-array\n",
    "      Array with the time of the commits\n",
    "    \"\"\"\n",
    "    if not url.endswith('/'):\n",
    "        url += '/'\n",
    "    url += 'commits/master'\n",
    "    \n",
    "    # Get the url\n",
    "    html = urlopen(url)\n",
    "    # Create the parser\n",
    "    soup = BeautifulSoup(html.read(), 'html.parser')\n",
    "    \n",
    "    # Table with all the commits\n",
    "    class_prop = {\"class\":\"commits-listing commits-listing-padded js-navigation-container js-active-navigation-container\"}\n",
    "    commits_table = soup.find('div', attrs=class_prop)\n",
    "    \n",
    "    # Commit title\n",
    "    names = []\n",
    "    for title in commits_table.find_all('a', attrs={'class': \"message\"}):\n",
    "        names.append(title.attrs['title'])\n",
    "    \n",
    "    # Commit time\n",
    "    times = []\n",
    "    for time in commits_table.find_all('relative-time'):\n",
    "        times.append(time.attrs['datetime'])\n",
    "    \n",
    "    return names, times"
   ]
  },
  {
   "cell_type": "code",
   "execution_count": 9,
   "metadata": {
    "collapsed": false
   },
   "outputs": [
    {
     "data": {
      "text/plain": [
       "([u'Adding Notebook',\n",
       "  u'Changing tabs to spaces',\n",
       "  u'Next data and hacking files',\n",
       "  u'Python Notebook for Classifying Attempt',\n",
       "  u'Moving things around.',\n",
       "  u'Updating README',\n",
       "  u'Adding essential data and script files',\n",
       "  u'Update README.md',\n",
       "  u'Update README.md',\n",
       "  u'Update README.md',\n",
       "  u'Adding some results files...',\n",
       "  u'first commit'],\n",
       " [u'2016-09-02T00:22:39Z',\n",
       "  u'2016-09-02T00:17:17Z',\n",
       "  u'2016-09-02T00:11:18Z',\n",
       "  u'2016-08-31T01:35:07Z',\n",
       "  u'2016-08-31T00:48:20Z',\n",
       "  u'2016-08-31T00:46:28Z',\n",
       "  u'2016-08-31T00:44:13Z',\n",
       "  u'2016-08-31T00:14:23Z',\n",
       "  u'2016-08-31T00:07:30Z',\n",
       "  u'2016-08-31T00:06:47Z',\n",
       "  u'2016-08-31T00:01:59Z',\n",
       "  u'2016-08-30T23:59:10Z'])"
      ]
     },
     "execution_count": 9,
     "metadata": {},
     "output_type": "execute_result"
    }
   ],
   "source": [
    "url = 'https://github.com/rudyphd/X-class'\n",
    "getCommitInfo(url)"
   ]
  },
  {
   "cell_type": "code",
   "execution_count": null,
   "metadata": {
    "collapsed": true
   },
   "outputs": [],
   "source": []
  }
 ],
 "metadata": {
  "kernelspec": {
   "display_name": "Python 2",
   "language": "python",
   "name": "python2"
  },
  "language_info": {
   "codemirror_mode": {
    "name": "ipython",
    "version": 2
   },
   "file_extension": ".py",
   "mimetype": "text/x-python",
   "name": "python",
   "nbconvert_exporter": "python",
   "pygments_lexer": "ipython2",
   "version": "2.7.10"
  }
 },
 "nbformat": 4,
 "nbformat_minor": 0
}
