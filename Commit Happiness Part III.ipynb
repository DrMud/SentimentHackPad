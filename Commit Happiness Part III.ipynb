{
 "cells": [
  {
   "cell_type": "markdown",
   "metadata": {},
   "source": [
    "# Commit Happiness: Part III\n",
    "\n",
    "*Authors*: Franco Bellomo, Adrian Price-Whelan, Madhura Killedar\n",
    "\n",
    "Search Hackpad for links to GitHub repos, scrape commit messages, and analyse them"
   ]
  },
  {
   "cell_type": "code",
   "execution_count": 1,
   "metadata": {
    "collapsed": false
   },
   "outputs": [],
   "source": [
    "import getCommitMessages as gcm\n",
    "import numpy as np\n",
    "import textblob\n",
    "from datetime import datetime\n",
    "from pytz import timezone\n",
    "import matplotlib as mpl\n",
    "from matplotlib import pyplot as plt\n",
    "%matplotlib inline"
   ]
  },
  {
   "cell_type": "code",
   "execution_count": 2,
   "metadata": {
    "collapsed": false
   },
   "outputs": [],
   "source": [
    "textfile = \"./github_links.txt\"\n",
    "repo_links = np.loadtxt(textfile,dtype=\"string\")"
   ]
  },
  {
   "cell_type": "code",
   "execution_count": 24,
   "metadata": {
    "collapsed": false
   },
   "outputs": [],
   "source": [
    "commit_infos = []\n",
    "for link in repo_links:\n",
    "    messages, times = gcm.getCommitInfo(link)\n",
    "    user_repo = link[19:]\n",
    "    repo_data = (messages,times,user_repo)\n",
    "    commit_infos.append(repo_data)\n",
    "    #print len(messages)\n",
    "    #print len(times)"
   ]
  },
  {
   "cell_type": "code",
   "execution_count": 30,
   "metadata": {
    "collapsed": false
   },
   "outputs": [],
   "source": [
    "all_commits = []\n",
    "all_times = []\n",
    "all_users = []\n",
    "all_feelings = []\n",
    "repos_feels = []\n",
    "\n",
    "for repo_data in commit_infos:\n",
    "    commits = repo_data[0]\n",
    "    all_commits += commits\n",
    "    all_times += repo_data[1]\n",
    "    all_users.append([repo_data[2]]*)\n",
    "    user_repo = repo_data[2]\n",
    "    feelings = []\n",
    "    \n",
    "    for message in commits:\n",
    "        feel = textblob.TextBlob(message).sentiment.polarity\n",
    "        all_feelings.append(feel)\n",
    "        if not message.startswith(\"Merge\"):\n",
    "             feelings.append(feel)\n",
    "\n",
    "    average_feels = sum(feelings)/len(feelings)\n",
    "    repos_feels.append(average_feels)\n",
    "    #print \"%s has average feelings = %f\"%(user_repo,average_feels)\n"
   ]
  },
  {
   "cell_type": "code",
   "execution_count": 5,
   "metadata": {
    "collapsed": true
   },
   "outputs": [],
   "source": [
    "def get_position_of_max(dummy_list):\n",
    "    m = max(dummy_list)\n",
    "    all_positions = [i for i, j in enumerate(dummy_list) if j == m]\n",
    "    return all_positions\n",
    "\n",
    "def get_position_of_min(dummy_list):\n",
    "    m = min(dummy_list)\n",
    "    all_positions = [i for i, j in enumerate(dummy_list) if j == m]\n",
    "    return all_positions"
   ]
  },
  {
   "cell_type": "code",
   "execution_count": 6,
   "metadata": {
    "collapsed": false
   },
   "outputs": [
    {
     "name": "stdout",
     "output_type": "stream",
     "text": [
      "patscott/pippi is the happiest. Their happiest commit is: \n",
      " More parsing updates...\n"
     ]
    }
   ],
   "source": [
    "maxind = get_position_of_max(all_feelings)\n",
    "\n",
    "    print \"%s is the happiest. Their happiest commit is: \\n %s\"%(happy_user,happiest_commit)"
   ]
  },
  {
   "cell_type": "code",
   "execution_count": 31,
   "metadata": {
    "collapsed": false
   },
   "outputs": [
    {
     "ename": "IndexError",
     "evalue": "list index out of range",
     "output_type": "error",
     "traceback": [
      "\u001b[0;31m---------------------------------------------------------------------------\u001b[0m",
      "\u001b[0;31mIndexError\u001b[0m                                Traceback (most recent call last)",
      "\u001b[0;32m<ipython-input-31-9f04d30c26c2>\u001b[0m in \u001b[0;36m<module>\u001b[0;34m()\u001b[0m\n\u001b[1;32m      1\u001b[0m \u001b[0mind\u001b[0m \u001b[0;34m=\u001b[0m \u001b[0mget_position_of_max\u001b[0m\u001b[0;34m(\u001b[0m\u001b[0mall_feelings\u001b[0m\u001b[0;34m)\u001b[0m\u001b[0;34m[\u001b[0m\u001b[0;36m0\u001b[0m\u001b[0;34m]\u001b[0m\u001b[0;34m\u001b[0m\u001b[0m\n\u001b[1;32m      2\u001b[0m \u001b[0mcommit\u001b[0m \u001b[0;34m=\u001b[0m \u001b[0mall_commits\u001b[0m\u001b[0;34m[\u001b[0m\u001b[0mind\u001b[0m\u001b[0;34m]\u001b[0m\u001b[0;34m\u001b[0m\u001b[0m\n\u001b[0;32m----> 3\u001b[0;31m \u001b[0muser\u001b[0m \u001b[0;34m=\u001b[0m \u001b[0mall_users\u001b[0m\u001b[0;34m[\u001b[0m\u001b[0mind\u001b[0m\u001b[0;34m]\u001b[0m\u001b[0;34m\u001b[0m\u001b[0m\n\u001b[0m\u001b[1;32m      4\u001b[0m \u001b[0;32mprint\u001b[0m \u001b[0mcommit\u001b[0m\u001b[0;34m\u001b[0m\u001b[0m\n\u001b[1;32m      5\u001b[0m \u001b[0;32mprint\u001b[0m \u001b[0muser\u001b[0m\u001b[0;34m\u001b[0m\u001b[0m\n",
      "\u001b[0;31mIndexError\u001b[0m: list index out of range"
     ]
    }
   ],
   "source": [
    "ind = get_position_of_max(all_feelings)[0]\n",
    "commit = all_commits[ind]\n",
    "user = all_users[ind]\n",
    "print commit\n",
    "print user\n"
   ]
  },
  {
   "cell_type": "code",
   "execution_count": 16,
   "metadata": {
    "collapsed": false
   },
   "outputs": [
    {
     "name": "stdout",
     "output_type": "stream",
     "text": [
      "juramaga/clustering is the happiest and has happiest commit: \n",
      " first commit\n"
     ]
    }
   ],
   "source": [
    "all_happiest = get_position_of_min(repos_feels)\n",
    "\n",
    "for happy in all_happiest:\n",
    "    happy_repo_data = commit_infos[happy]\n",
    "    happy_user = happy_repo_data[2]\n",
    "    commits = happy_repo_data[0]\n",
    "    happinesses = []\n",
    "    \n",
    "    for commit in commits:\n",
    "        happinesses.append(textblob.TextBlob(commit).sentiment.polarity)\n",
    "        \n",
    "    which_happiest = get_position_of_max(happinesses)[0]\n",
    "    happiest_commit = commits[which_happiest]\n",
    "    happiest_time = happy_repo_data[1][which_happiest]\n",
    "    print \"%s is the happiest and has happiest commit: \\n %s\"%(happy_user,happiest_commit)"
   ]
  },
  {
   "cell_type": "code",
   "execution_count": 7,
   "metadata": {
    "collapsed": false
   },
   "outputs": [
    {
     "name": "stdout",
     "output_type": "stream",
     "text": [
      "juramaga/clustering is the saddest. Their saddest commit is: \n",
      " Adding Code for Confused Sources Gaussian Mixture\n"
     ]
    }
   ],
   "source": [
    "all_saddest = get_position_of_min(repos_feels)\n",
    "\n",
    "for sad in all_saddest:\n",
    "    sad_repo_data = commit_infos[sad]\n",
    "    sad_user = sad_repo_data[2]\n",
    "    commits = sad_repo_data[0]\n",
    "    sadnesses = []\n",
    "    \n",
    "    for commit in commits:\n",
    "        sadnesses.append(textblob.TextBlob(commit).sentiment.polarity)\n",
    "        \n",
    "    which_saddest = get_position_of_min(sadnesses)[0]\n",
    "    saddest_commit = commits[which_saddest]\n",
    "    saddest_time = sad_repo_data[1][which_saddest]\n",
    "    \n",
    "    print \"%s is the saddest. Their saddest commit is: \\n %s\"%(sad_user,saddest_commit)"
   ]
  },
  {
   "cell_type": "code",
   "execution_count": 8,
   "metadata": {
    "collapsed": false
   },
   "outputs": [],
   "source": [
    "all_datetimes = []\n",
    "\n",
    "for time in all_times:\n",
    "    dt_obj = datetime.strptime(time, \"%Y-%m-%dT%H:%M:%SZ\")\n",
    "    all_datetimes.append(dt_obj)"
   ]
  },
  {
   "cell_type": "code",
   "execution_count": 13,
   "metadata": {
    "collapsed": false
   },
   "outputs": [
    {
     "data": {
      "image/png": "[encoded data removed]",
      "text/plain": [
       "<matplotlib.figure.Figure at 0x11181b6d0>"
      ]
     },
     "metadata": {},
     "output_type": "display_data"
    }
   ],
   "source": [
    "fig, ax = plt.subplots(figsize=(10,10))\n",
    "all_datenums = mpl.dates.date2num(all_datetimes)\n",
    "ax.plot_date(all_datenums, all_feelings, ms=4)\n",
    "ax.set_xlim([datetime(2016,8,29).toordinal(), datetime(2016,9,3).toordinal()])\n",
    "ax.set_xlabel(\"Time\",fontsize=20)\n",
    "ax.set_ylabel(\"Happiness\",fontsize=20)\n",
    "plt.gcf().autofmt_xdate()"
   ]
  },
  {
   "cell_type": "code",
   "execution_count": 11,
   "metadata": {
    "collapsed": false
   },
   "outputs": [
    {
     "name": "stdout",
     "output_type": "stream",
     "text": [
      "86400\n"
     ]
    },
    {
     "data": {
      "text/plain": [
       "(-1, 1)"
      ]
     },
     "execution_count": 11,
     "metadata": {},
     "output_type": "execute_result"
    },
    {
     "data": {
      "image/png": "[encoded data removed]",
      "text/plain": [
       "<matplotlib.figure.Figure at 0x1115874d0>"
      ]
     },
     "metadata": {},
     "output_type": "display_data"
    }
   ],
   "source": [
    "seconds_in_day = 3600*24\n",
    "print seconds_in_day\n",
    "#standard = timezone('US/Eastern').localize(datetime(2016,8,28))\n",
    "#all_datesecs = [timezone('US/Eastern').localize(i) - standard for i in all_datetimes]\n",
    "standard = datetime(2016,8,28)\n",
    "all_datesecs = [i - standard for i in all_datetimes]\n",
    "all_seconds = [i.total_seconds()%seconds_in_day for i in all_datesecs]\n",
    "fig2, ax2 = plt.subplots(figsize=(10,10))\n",
    "ax2.scatter(all_seconds, all_feelings, s=10, color=\"#AA0000\")\n",
    "ax2.set_xlabel(\"seconds of day\",fontsize=20)\n",
    "ax2.set_ylabel(\"Happiness\",fontsize=20)\n",
    "ax2.set_xlim([0,seconds_in_day])\n",
    "ax2.set_ylim([-1,1])"
   ]
  },
  {
   "cell_type": "code",
   "execution_count": null,
   "metadata": {
    "collapsed": true
   },
   "outputs": [],
   "source": []
  }
 ],
 "metadata": {
  "kernelspec": {
   "display_name": "Python 2",
   "language": "python",
   "name": "python2"
  },
  "language_info": {
   "codemirror_mode": {
    "name": "ipython",
    "version": 2
   },
   "file_extension": ".py",
   "mimetype": "text/x-python",
   "name": "python",
   "nbconvert_exporter": "python",
   "pygments_lexer": "ipython2",
   "version": "2.7.10"
  }
 },
 "nbformat": 4,
 "nbformat_minor": 0
}
