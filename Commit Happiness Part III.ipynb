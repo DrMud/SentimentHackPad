{
 "cells": [
  {
   "cell_type": "markdown",
   "metadata": {},
   "source": [
    "# Commit Happiness: Part III\n",
    "\n",
    "*Authors*: Franco Bellomo, Adrian Price-Whelan, Madhura Killedar\n",
    "\n",
    "Search Hackpad for links to GitHub repos, scrape commit messages, and analyse them"
   ]
  },
  {
   "cell_type": "code",
   "execution_count": 39,
   "metadata": {
    "collapsed": false
   },
   "outputs": [],
   "source": [
    "import getCommitMessages as gcm\n",
    "import numpy as np\n",
    "import textblob\n",
    "from datetime import datetime\n",
    "from pytz import timezone\n",
    "import matplotlib as mpl\n",
    "from matplotlib import pyplot as plt\n",
    "%matplotlib inline"
   ]
  },
  {
   "cell_type": "code",
   "execution_count": 40,
   "metadata": {
    "collapsed": false
   },
   "outputs": [],
   "source": [
    "textfile = \"./github_links.txt\"\n",
    "repo_links = np.loadtxt(textfile,dtype=\"string\")"
   ]
  },
  {
   "cell_type": "code",
   "execution_count": 41,
   "metadata": {
    "collapsed": false
   },
   "outputs": [],
   "source": [
    "commit_infos = []\n",
    "for link in repo_links:\n",
    "    messages, times = gcm.getCommitInfo(link)\n",
    "    user_repo = link[19:]\n",
    "    repo_data = (messages,times,user_repo)\n",
    "    commit_infos.append(repo_data)"
   ]
  },
  {
   "cell_type": "code",
   "execution_count": 42,
   "metadata": {
    "collapsed": false
   },
   "outputs": [],
   "source": [
    "all_commits = []\n",
    "all_times = []\n",
    "all_users = []\n",
    "all_feelings = []\n",
    "repos_feels = []\n",
    "\n",
    "for repo_data in commit_infos:\n",
    "    commits = repo_data[0]\n",
    "    all_commits += commits\n",
    "    all_times += repo_data[1]\n",
    "    all_users += [repo_data[2]]*len(commits)\n",
    "    user_repo = repo_data[2]\n",
    "    feelings = []\n",
    "    \n",
    "    for message in commits:\n",
    "        feel = textblob.TextBlob(message).sentiment.polarity\n",
    "        all_feelings.append(feel)\n",
    "        if not message.startswith(\"Merge\"):\n",
    "             feelings.append(feel)\n",
    "\n",
    "    average_feels = sum(feelings)/len(feelings)\n",
    "    repos_feels.append(average_feels)\n",
    "    #print \"%s has average feelings = %f\"%(user_repo,average_feels)\n"
   ]
  },
  {
   "cell_type": "code",
   "execution_count": 43,
   "metadata": {
    "collapsed": true
   },
   "outputs": [],
   "source": [
    "def get_position_of_max(dummy_list):\n",
    "    m = max(dummy_list)\n",
    "    all_positions = [i for i, j in enumerate(dummy_list) if j == m]\n",
    "    return all_positions\n",
    "\n",
    "def get_position_of_min(dummy_list):\n",
    "    m = min(dummy_list)\n",
    "    all_positions = [i for i, j in enumerate(dummy_list) if j == m]\n",
    "    return all_positions"
   ]
  },
  {
   "cell_type": "code",
   "execution_count": 45,
   "metadata": {
    "collapsed": false
   },
   "outputs": [
    {
     "data": {
      "text/plain": [
       "(846, 846)"
      ]
     },
     "execution_count": 45,
     "metadata": {},
     "output_type": "execute_result"
    }
   ],
   "source": [
    "len(all_users), len(all_commits)"
   ]
  },
  {
   "cell_type": "code",
   "execution_count": 56,
   "metadata": {
    "collapsed": false
   },
   "outputs": [
    {
     "name": "stdout",
     "output_type": "stream",
     "text": [
      "user astrohackweek/astrohackweek2015 had the happiest commit: \n",
      " Added awesome blog link from Chris\n"
     ]
    }
   ],
   "source": [
    "ind = get_position_of_max(all_feelings)[0]\n",
    "commit = all_commits[ind]\n",
    "user = all_users[ind]\n",
    "print \"user %s had the happiest commit: \\n %s\"%(user,commit)\n"
   ]
  },
  {
   "cell_type": "code",
   "execution_count": 57,
   "metadata": {
    "collapsed": false
   },
   "outputs": [
    {
     "name": "stdout",
     "output_type": "stream",
     "text": [
      "user pmelchior/skymapper had the saddest commit: \n",
      " introduces base class ConicProjection\n"
     ]
    }
   ],
   "source": [
    "ind = get_position_of_min(all_feelings)[0]\n",
    "commit = all_commits[ind]\n",
    "user = all_users[ind]\n",
    "print \"user %s had the saddest commit: \\n %s\"%(user,commit)"
   ]
  },
  {
   "cell_type": "code",
   "execution_count": 54,
   "metadata": {
    "collapsed": false
   },
   "outputs": [
    {
     "name": "stdout",
     "output_type": "stream",
     "text": [
      "patscott/pippi is the happiest. Their happiest commit is: \n",
      " More parsing updates...\n"
     ]
    }
   ],
   "source": [
    "all_happiest = get_position_of_max(repos_feels)\n",
    "\n",
    "for happy in all_happiest:\n",
    "    happy_repo_data = commit_infos[happy]\n",
    "    happy_user = happy_repo_data[2]\n",
    "    commits = happy_repo_data[0]\n",
    "    happinesses = []\n",
    "    \n",
    "    for commit in commits:\n",
    "        happinesses.append(textblob.TextBlob(commit).sentiment.polarity)\n",
    "        \n",
    "    which_happiest = get_position_of_max(happinesses)[0]\n",
    "    happiest_commit = commits[which_happiest]\n",
    "    happiest_time = happy_repo_data[1][which_happiest]\n",
    "    print \"%s is the happiest. Their happiest commit is: \\n %s\"%(happy_user,happiest_commit)"
   ]
  },
  {
   "cell_type": "code",
   "execution_count": 49,
   "metadata": {
    "collapsed": false
   },
   "outputs": [
    {
     "name": "stdout",
     "output_type": "stream",
     "text": [
      "juramaga/clustering is the saddest. Their saddest commit is: \n",
      " Adding Code for Confused Sources Gaussian Mixture\n"
     ]
    }
   ],
   "source": [
    "all_saddest = get_position_of_min(repos_feels)\n",
    "\n",
    "for sad in all_saddest:\n",
    "    sad_repo_data = commit_infos[sad]\n",
    "    sad_user = sad_repo_data[2]\n",
    "    commits = sad_repo_data[0]\n",
    "    sadnesses = []\n",
    "    \n",
    "    for commit in commits:\n",
    "        sadnesses.append(textblob.TextBlob(commit).sentiment.polarity)\n",
    "        \n",
    "    which_saddest = get_position_of_min(sadnesses)[0]\n",
    "    saddest_commit = commits[which_saddest]\n",
    "    saddest_time = sad_repo_data[1][which_saddest]\n",
    "    \n",
    "    print \"%s is the saddest. Their saddest commit is: \\n %s\"%(sad_user,saddest_commit)"
   ]
  },
  {
   "cell_type": "code",
   "execution_count": 50,
   "metadata": {
    "collapsed": false
   },
   "outputs": [],
   "source": [
    "all_datetimes = []\n",
    "\n",
    "for time in all_times:\n",
    "    dt_obj = datetime.strptime(time, \"%Y-%m-%dT%H:%M:%SZ\")\n",
    "    all_datetimes.append(dt_obj)"
   ]
  },
  {
   "cell_type": "code",
   "execution_count": 51,
   "metadata": {
    "collapsed": false
   },
   "outputs": [
    {
     "data": {
      "image/png": "[encoded data removed]",
      "text/plain": [
       "<matplotlib.figure.Figure at 0x10cddd190>"
      ]
     },
     "metadata": {},
     "output_type": "display_data"
    }
   ],
   "source": [
    "fig, ax = plt.subplots(figsize=(10,10))\n",
    "all_datenums = mpl.dates.date2num(all_datetimes)\n",
    "ax.plot_date(all_datenums, all_feelings, ms=4)\n",
    "ax.set_xlim([datetime(2016,8,29).toordinal(), datetime(2016,9,3).toordinal()])\n",
    "ax.set_xlabel(\"Time\",fontsize=20)\n",
    "ax.set_ylabel(\"Happiness\",fontsize=20)\n",
    "plt.gcf().autofmt_xdate()"
   ]
  },
  {
   "cell_type": "code",
   "execution_count": 52,
   "metadata": {
    "collapsed": false
   },
   "outputs": [
    {
     "name": "stdout",
     "output_type": "stream",
     "text": [
      "86400\n"
     ]
    },
    {
     "data": {
      "text/plain": [
       "(-1, 1)"
      ]
     },
     "execution_count": 52,
     "metadata": {},
     "output_type": "execute_result"
    },
    {
     "data": {
      "image/png": "[encoded data removed]",
      "text/plain": [
       "<matplotlib.figure.Figure at 0x10d079a10>"
      ]
     },
     "metadata": {},
     "output_type": "display_data"
    }
   ],
   "source": [
    "seconds_in_day = 3600*24\n",
    "print seconds_in_day\n",
    "#standard = timezone('US/Eastern').localize(datetime(2016,8,28))\n",
    "#all_datesecs = [timezone('US/Eastern').localize(i) - standard for i in all_datetimes]\n",
    "standard = datetime(2016,8,28)\n",
    "all_datesecs = [i - standard for i in all_datetimes]\n",
    "all_seconds = [i.total_seconds()%seconds_in_day for i in all_datesecs]\n",
    "fig2, ax2 = plt.subplots(figsize=(10,10))\n",
    "ax2.scatter(all_seconds, all_feelings, s=10, color=\"#AA0000\")\n",
    "ax2.set_xlabel(\"seconds of day\",fontsize=20)\n",
    "ax2.set_ylabel(\"Happiness\",fontsize=20)\n",
    "ax2.set_xlim([0,seconds_in_day])\n",
    "ax2.set_ylim([-1,1])"
   ]
  },
  {
   "cell_type": "code",
   "execution_count": null,
   "metadata": {
    "collapsed": true
   },
   "outputs": [],
   "source": []
  }
 ],
 "metadata": {
  "kernelspec": {
   "display_name": "Python 2",
   "language": "python",
   "name": "python2"
  },
  "language_info": {
   "codemirror_mode": {
    "name": "ipython",
    "version": 2
   },
   "file_extension": ".py",
   "mimetype": "text/x-python",
   "name": "python",
   "nbconvert_exporter": "python",
   "pygments_lexer": "ipython2",
   "version": "2.7.10"
  }
 },
 "nbformat": 4,
 "nbformat_minor": 0
}
