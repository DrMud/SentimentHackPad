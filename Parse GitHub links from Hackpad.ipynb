{
 "cells": [
  {
   "cell_type": "code",
   "execution_count": 86,
   "metadata": {
    "collapsed": false
   },
   "outputs": [],
   "source": [
    "import re\n",
    "import numpy as np\n",
    "import urllib.parse as p\n",
    "import urllib.request as ur\n",
    "from bs4 import BeautifulSoup"
   ]
  },
  {
   "cell_type": "code",
   "execution_count": 41,
   "metadata": {
    "collapsed": false
   },
   "outputs": [],
   "source": [
    "f = ur.urlopen(\"https://hackpad.com/ep/pad/static/PlmbAyVqqtQ\")\n",
    "the_html = f.read()"
   ]
  },
  {
   "cell_type": "code",
   "execution_count": 42,
   "metadata": {
    "collapsed": false
   },
   "outputs": [],
   "source": [
    "soup = BeautifulSoup(the_html, 'html.parser')"
   ]
  },
  {
   "cell_type": "code",
   "execution_count": 44,
   "metadata": {
    "collapsed": false
   },
   "outputs": [],
   "source": [
    "all_a = soup.find_all('a')"
   ]
  },
  {
   "cell_type": "code",
   "execution_count": 51,
   "metadata": {
    "collapsed": false
   },
   "outputs": [],
   "source": [
    "github_links = []\n",
    "for a in all_a:\n",
    "    if 'href' in a.attrs and a.attrs['href'] is not None and 'github' in a.attrs['href']:\n",
    "        github_links.append(a)"
   ]
  },
  {
   "cell_type": "code",
   "execution_count": 52,
   "metadata": {
    "collapsed": false
   },
   "outputs": [
    {
     "data": {
      "text/plain": [
       "[<a href=\"https://github.com/adrn/DropOutput\"></a>,\n",
       " <a href=\"https://github.com/adrn/dropoutput\"></a>,\n",
       " <a href=\"https://github.com/adrn/DropOutput\"></a>,\n",
       " <a href=\"https://github.com/adrn/ropoutput\"></a>,\n",
       " <a href=\"https://github.com/adrn/DropOutput\"></a>,\n",
       " <a href=\"https://github.com/adrn/Droputput\"></a>,\n",
       " <a href=\"https://github.com/adrn/DropOutput\"></a>,\n",
       " <a href=\"https://github.com/tholoien/empiriciSN/blob/master/.travis.yml\"></a>,\n",
       " <a href=\"https://github.com/rudyphd/X-class/blob/master/X-class%20Day%203%20Progress.ipynb\"></a>,\n",
       " <a href=\"https://github.com/rudyphd/X-class/blob/master/X-class%20Day%203%20Progress.ipynb\"></a>,\n",
       " <a href=\"https://github.com/DrMud/SentimentHackPad/blob/master/Sentiment%20Hackpad.ipynb\"></a>,\n",
       " <a href=\"https://github.com/AstroHackWeek/AstroHackWeek2016/blob/master/breakouts/gaussian_process/GaussianProcessTasteTest.ipynb\"></a>,\n",
       " <a href=\"https://github.com/kfollette/Notebook-TeachingTips\"></a>,\n",
       " <a href=\"https://github.com/benanne/kaggle-galaxies\"></a>,\n",
       " <a href=\"http://benanne.github.io/2014/04/05/galaxy-zoo.html\"></a>,\n",
       " <a href=\"https://github.com/freelanceastro/galactic-machine-learning/blob/master/Galaxy-Zoo-Machine-Learning.ipynb\"></a>,\n",
       " <a href=\"https://github.com/freelanceastro/galactic-machine-learning/blob/master/Galaxy-Zoo-Machine-Learning.ipynb\"></a>,\n",
       " <a href=\"https://github.com/usmanwardag/HackDB\"></a>,\n",
       " <a href=\"https://github.com/usmanwardag/hackDb/tree/initialize_db\"></a>,\n",
       " <a href=\"http://macrocosme.github.io/dotastronomy_seven.html\"></a>,\n",
       " <a href=\"http://github.com/kbarbary/autodiff\"></a>,\n",
       " <a href=\"https://github.com/eggplantbren/Forest\"></a>,\n",
       " <a href=\"https://github.com/mbaumer/gcorr/blob/master/vanilla_python_test.ipynb\"></a>,\n",
       " <a href=\"https://github.com/drarnakarick/AHW_twitterbot_tutorial\"></a>,\n",
       " <a href=\"https://github.com/jbwhit/autofitting/blob/master/notebooks/2016-08-31-emcee%2Bpymc2.ipynb\"></a>,\n",
       " <a href=\"https://github.com/jbwhit/autofitting\"></a>,\n",
       " <a href=\"https://gist.github.com/jbwhit/411405527b6c8bef0d94288ddab603d9\"></a>,\n",
       " <a href=\"https://gist.github.com/jbwhit/411405527b6c8bef0d94288ddab603d9\"></a>,\n",
       " <a href=\"https://github.com/davidwhogg/DiffractionMicroscopy\"></a>,\n",
       " <a href=\"https://gist.github.com/mmechtley/5b1ba87862e8bb83cdfa429fb6071a6c\"></a>,\n",
       " <a href=\"https://gist.github.com/mmechtley/5b1ba87862e8bb83cdfa429fb6071a6c/raw/07008c33fb165b920cbbf657a33dd5047b473a2f/model_vid.mp4\"></a>,\n",
       " <a href=\"https://gist.githubusercontent.com/mmechtley/5b1ba87862e8bb83cdfa429fb6071a6c/raw/07008c33fb165b920cbbf657a33dd5047b473a2f/truth_3d.png\"></a>,\n",
       " <a href=\"https://github.com/drphilmarshall/colormaps/blob/randomlinear/Colormaps.ipynb\"></a>,\n",
       " <a href=\"https://github.com/aimalz/densityfield\"></a>,\n",
       " <a href=\"https://github.com/aimalz/densityfield/blob/master/GPSandbox.ipynb\"></a>,\n",
       " <a href=\"https://github.com/zakiali/radio_nnet\"></a>,\n",
       " <a href=\"https://github.com/benelson/collaboratr/\"></a>,\n",
       " <a href=\"https://github.com/benelson/collaboratr/blob/master/Collaborator.ipynb\"></a>,\n",
       " <a href=\"https://github.com/adrn/ebak/blob/custom-sampler/notebooks/Sampler%20hack.ipynb\"></a>,\n",
       " <a href=\"https://github.com/AstroHackWeek/AstroHackWeek2016/pull/15\"></a>,\n",
       " <a href=\"https://github.com/dhuppenkothen/XRayResponder\"></a>,\n",
       " <a href=\"https://github.com/jessie-dotson/myAHW16/wiki\"></a>,\n",
       " <a href=\"https://github.com/JuliaDiff/ForwardDiff.jl\"></a>,\n",
       " <a href=\"http://github.com/rainwoodman/mpl_aea\"></a>,\n",
       " <a href=\"https://github.com/pmelchior/skymapper\"></a>,\n",
       " <a href=\"https://github.com/bccp/imaginglss-notebooks/blob/master/DepthMagRelation.ipynb\"></a>,\n",
       " <a href=\"https://github.com/rainwoodman/mpl_aea/pull/1\"></a>,\n",
       " <a href=\"https://github.com/jbwhit/calicompari\"></a>,\n",
       " <a href=\"https://github.com/StingraySoftware/stingray\"></a>,\n",
       " <a href=\"https://github.com/sherpa/sherpa\"></a>,\n",
       " <a href=\"https://github.com/AstroHackWeek/AstroHackWeek2015/blob/master/day4-day5-inference/straightline.ipynb\"></a>,\n",
       " <a href=\"https://github.com/AstroHackWeek/AstroHackWeek2015/blob/master/day4-day5-inference/straightline.ipynb\"></a>,\n",
       " <a href=\"http://nbviewer.jupyter.org/github/MariaElidaiana/AstroHackWeek/blob/master/FittingNFW2toDSigma.ipynb\"></a>,\n",
       " <a href=\"http://nbviewer.jupyter.org/github/MariaElidaiana/AstroHackWeek/blob/master/FittingNFW2toDSigma.ipynb\"></a>,\n",
       " <a href=\"http://nbviewer.jupyter.org/github/MariaElidaiana/AstroHackWeek/blob/master/FittingNFW2DSigma.ipynb\"></a>,\n",
       " <a href=\"https://github.com/caseyjlaw/activegit\"></a>,\n",
       " <a href=\"https://github.com/caseyjlaw/activegit\"></a>,\n",
       " <a href=\"https://github.com/zpace/stellarmass_pca\"></a>,\n",
       " <a href=\"https://github.com/DarkEnergyScienceCollaboration/SLCosmo\"></a>,\n",
       " <a href=\"https://github.com/DarkEnergyScienceCollaboration/SLCosmo/issues/26\"></a>,\n",
       " <a href=\"https://github.com/DarkEnergyScienceCollaboration/SLCosmo\"></a>,\n",
       " <a href=\"https://github.com/DarkEnergyScienceCollaboration/SLCosmo/issues/28\"></a>,\n",
       " <a href=\"https://github.com/adrn/ebak\"></a>,\n",
       " <a href=\"https://github.com/tholoien/empiriciSN/blob/master/.travis.yml\"></a>,\n",
       " <a href=\"https://github.com/dotastro/hacks-collector\"></a>,\n",
       " <a href=\"https://github.com/dotastro/hacks-collector)\"></a>,\n",
       " <a href=\"https://github.com/dotastro/hacks-collector\"></a>,\n",
       " <a href=\"https://gist.github.com/jbwhit/411405527b6c8bef0d94288ddab603d9\"></a>,\n",
       " <a href=\"https://github.com/pymc-devs/pymc3\"></a>,\n",
       " <a href=\"https://github.com/rudyphd/X-class/blob/master/README.md\"></a>,\n",
       " <a href=\"https://github.com/rudyphd/X-class/blob/master/README.md\"></a>,\n",
       " <a href=\"https://github.com/ellisonbg/altair\"></a>,\n",
       " <a href=\"https://vega-lite.github.io\"></a>,\n",
       " <a href=\"https://github.com/eggplantbren/StarField2\"></a>,\n",
       " <a href=\"https://github.com/patscott/pippi/\"></a>,\n",
       " <a href=\"https://github.com/bccp/bananaplots\"></a>,\n",
       " <a href=\"https://github.com/eggplantbren/StarField2\"></a>,\n",
       " <a href=\"https://github.com/eggplantbren/StarField2\"></a>]"
      ]
     },
     "execution_count": 52,
     "metadata": {},
     "output_type": "execute_result"
    }
   ],
   "source": [
    "github_links"
   ]
  },
  {
   "cell_type": "markdown",
   "metadata": {},
   "source": [
    "There are many duplicates and typos, so we need to clean a bit"
   ]
  },
  {
   "cell_type": "code",
   "execution_count": 90,
   "metadata": {
    "collapsed": false
   },
   "outputs": [],
   "source": [
    "clean_github_links = [str(a.attrs['href']).lower() for a in github_links]\n",
    "clean_github_links = [link for link in clean_github_links if 'gist' not in link]\n",
    "\n",
    "repo_links = []\n",
    "repo_str = \"https://github.com/{username}/{reponame}\"\n",
    "pattr = re.compile('github.com/([0-9a-zA-Z]+)/([a-z0-9\\-A-Z]+).*')\n",
    "for link in clean_github_links:\n",
    "    try:\n",
    "        username, repo = pattr.search(link).groups()\n",
    "        repo_links.append(repo_str.format(username=username, reponame=repo))\n",
    "    except:\n",
    "        # no matches\n",
    "        pass\n",
    "    \n",
    "repo_links = set(repo_links)"
   ]
  },
  {
   "cell_type": "code",
   "execution_count": 57,
   "metadata": {
    "collapsed": true
   },
   "outputs": [],
   "source": [
    "def is_valid_url(url):\n",
    "    try:\n",
    "        request = ur.Request(url)\n",
    "        response = ur.urlopen(request)\n",
    "        return True\n",
    "    except:\n",
    "        #The url wasn't valid\n",
    "        return False"
   ]
  },
  {
   "cell_type": "code",
   "execution_count": 91,
   "metadata": {
    "collapsed": true
   },
   "outputs": [],
   "source": [
    "valid_repo_links = []\n",
    "for link in repo_links:\n",
    "    if is_valid_url(link):\n",
    "        valid_repo_links.append(link)"
   ]
  },
  {
   "cell_type": "code",
   "execution_count": 92,
   "metadata": {
    "collapsed": false
   },
   "outputs": [
    {
     "name": "stdout",
     "output_type": "stream",
     "text": [
      "https://github.com/mbaumer/gcorr\n",
      "https://github.com/usmanwardag/hackdb\n",
      "https://github.com/bccp/bananaplots\n",
      "https://github.com/kbarbary/autodiff\n",
      "https://github.com/drmud/sentimenthackpad\n",
      "https://github.com/darkenergysciencecollaboration/slcosmo\n",
      "https://github.com/bccp/imaginglss-notebooks\n",
      "https://github.com/sherpa/sherpa\n",
      "https://github.com/jbwhit/calicompari\n",
      "https://github.com/caseyjlaw/activegit\n",
      "https://github.com/eggplantbren/forest\n",
      "https://github.com/adrn/ebak\n",
      "https://github.com/rudyphd/x-class\n",
      "https://github.com/kfollette/notebook-teachingtips\n",
      "https://github.com/adrn/dropoutput\n",
      "https://github.com/aimalz/densityfield\n",
      "https://github.com/stingraysoftware/stingray\n",
      "https://github.com/astrohackweek/astrohackweek2015\n",
      "https://github.com/dhuppenkothen/xrayresponder\n",
      "https://github.com/astrohackweek/astrohackweek2016\n",
      "https://github.com/ellisonbg/altair\n",
      "https://github.com/jbwhit/autofitting\n",
      "https://github.com/eggplantbren/starfield2\n",
      "https://github.com/freelanceastro/galactic-machine-learning\n",
      "https://github.com/pmelchior/skymapper\n",
      "https://github.com/dotastro/hacks-collector\n",
      "https://github.com/benanne/kaggle-galaxies\n",
      "https://github.com/benelson/collaboratr\n",
      "https://github.com/tholoien/empiricisn\n",
      "https://github.com/davidwhogg/diffractionmicroscopy\n",
      "https://github.com/patscott/pippi\n",
      "https://github.com/drphilmarshall/colormaps\n"
     ]
    }
   ],
   "source": [
    "for link in valid_repo_links:\n",
    "    print(link)"
   ]
  },
  {
   "cell_type": "code",
   "execution_count": 94,
   "metadata": {
    "collapsed": false
   },
   "outputs": [],
   "source": [
    "np.savetxt(\"github_links.txt\", valid_repo_links, fmt='%s')"
   ]
  },
  {
   "cell_type": "code",
   "execution_count": null,
   "metadata": {
    "collapsed": true
   },
   "outputs": [],
   "source": []
  }
 ],
 "metadata": {
  "anaconda-cloud": {},
  "git": {
   "suppress_outputs": false
  },
  "kernelspec": {
   "display_name": "Python [conda env:three]",
   "language": "python",
   "name": "conda-env-three-py"
  },
  "language_info": {
   "codemirror_mode": {
    "name": "ipython",
    "version": 3
   },
   "file_extension": ".py",
   "mimetype": "text/x-python",
   "name": "python",
   "nbconvert_exporter": "python",
   "pygments_lexer": "ipython3",
   "version": "3.5.2"
  }
 },
 "nbformat": 4,
 "nbformat_minor": 1
}
