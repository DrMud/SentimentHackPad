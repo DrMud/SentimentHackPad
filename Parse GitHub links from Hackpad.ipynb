{
 "cells": [
  {
   "cell_type": "markdown",
   "metadata": {},
   "source": [
    "# Commit Happiness: Part I"
   ]
  },
  {
   "cell_type": "code",
   "execution_count": 4,
   "metadata": {
    "collapsed": false
   },
   "outputs": [
    {
     "name": "stdout",
     "output_type": "stream",
     "text": [
      "Collecting bs4\n",
      "  Downloading bs4-0.0.1.tar.gz\n",
      "Requirement already satisfied (use --upgrade to upgrade): beautifulsoup4 in /Library/Frameworks/Python.framework/Versions/2.7/lib/python2.7/site-packages (from bs4)\n",
      "Installing collected packages: bs4\n",
      "  Running setup.py install for bs4 ... \u001b[?25l-\b \bdone\n",
      "\u001b[?25hSuccessfully installed bs4-0.0.1\n",
      "Collecting urllib\n",
      "\u001b[31m  Could not find a version that satisfies the requirement urllib (from versions: )\u001b[0m\n",
      "\u001b[31mNo matching distribution found for urllib\u001b[0m\n"
     ]
    }
   ],
   "source": [
    "!pip install bs4\n",
    "!pip install urllib"
   ]
  },
  {
   "cell_type": "code",
   "execution_count": 5,
   "metadata": {
    "collapsed": false
   },
   "outputs": [
    {
     "ename": "SyntaxError",
     "evalue": "invalid syntax (<ipython-input-5-0759b8ff8660>, line 7)",
     "output_type": "error",
     "traceback": [
      "\u001b[0;36m  File \u001b[0;32m\"<ipython-input-5-0759b8ff8660>\"\u001b[0;36m, line \u001b[0;32m7\u001b[0m\n\u001b[0;31m    from urlparse as p\u001b[0m\n\u001b[0m                   ^\u001b[0m\n\u001b[0;31mSyntaxError\u001b[0m\u001b[0;31m:\u001b[0m invalid syntax\n"
     ]
    }
   ],
   "source": [
    "import re\n",
    "import numpy as np\n",
    "try:\n",
    "    import urllib.request as ur\n",
    "    import urllib.parse as p\n",
    "except ImportError:\n",
    "    import urlparse as p\n",
    "    from urllib as ur\n",
    "#import urllib.parse as p\n",
    "#import urllib.request as ur\n",
    "from bs4 import BeautifulSoup"
   ]
  },
  {
   "cell_type": "code",
   "execution_count": 6,
   "metadata": {
    "collapsed": false
   },
   "outputs": [
    {
     "ename": "NameError",
     "evalue": "name 'ur' is not defined",
     "output_type": "error",
     "traceback": [
      "\u001b[0;31m---------------------------------------------------------------------------\u001b[0m",
      "\u001b[0;31mNameError\u001b[0m                                 Traceback (most recent call last)",
      "\u001b[0;32m<ipython-input-6-5505532f9a2c>\u001b[0m in \u001b[0;36m<module>\u001b[0;34m()\u001b[0m\n\u001b[0;32m----> 1\u001b[0;31m \u001b[0mf\u001b[0m \u001b[0;34m=\u001b[0m \u001b[0mur\u001b[0m\u001b[0;34m.\u001b[0m\u001b[0murlopen\u001b[0m\u001b[0;34m(\u001b[0m\u001b[0;34m\"https://hackpad.com/ep/pad/static/PlmbAyVqqtQ\"\u001b[0m\u001b[0;34m)\u001b[0m\u001b[0;34m\u001b[0m\u001b[0m\n\u001b[0m\u001b[1;32m      2\u001b[0m \u001b[0mthe_html\u001b[0m \u001b[0;34m=\u001b[0m \u001b[0mf\u001b[0m\u001b[0;34m.\u001b[0m\u001b[0mread\u001b[0m\u001b[0;34m(\u001b[0m\u001b[0;34m)\u001b[0m\u001b[0;34m\u001b[0m\u001b[0m\n",
      "\u001b[0;31mNameError\u001b[0m: name 'ur' is not defined"
     ]
    }
   ],
   "source": [
    "f = ur.urlopen(\"https://hackpad.com/ep/pad/static/PlmbAyVqqtQ\")\n",
    "the_html = f.read()"
   ]
  },
  {
   "cell_type": "code",
   "execution_count": null,
   "metadata": {
    "collapsed": false
   },
   "outputs": [],
   "source": [
    "soup = BeautifulSoup(the_html, 'html.parser')"
   ]
  },
  {
   "cell_type": "code",
   "execution_count": null,
   "metadata": {
    "collapsed": false
   },
   "outputs": [],
   "source": [
    "all_a = soup.find_all('a')"
   ]
  },
  {
   "cell_type": "code",
   "execution_count": null,
   "metadata": {
    "collapsed": false
   },
   "outputs": [],
   "source": [
    "github_links = []\n",
    "for a in all_a:\n",
    "    if 'href' in a.attrs and a.attrs['href'] is not None and 'github' in a.attrs['href']:\n",
    "        github_links.append(a)"
   ]
  },
  {
   "cell_type": "code",
   "execution_count": null,
   "metadata": {
    "collapsed": false
   },
   "outputs": [],
   "source": [
    "github_links"
   ]
  },
  {
   "cell_type": "markdown",
   "metadata": {},
   "source": [
    "There are many duplicates and typos, so we need to clean a bit"
   ]
  },
  {
   "cell_type": "code",
   "execution_count": null,
   "metadata": {
    "collapsed": false
   },
   "outputs": [],
   "source": [
    "clean_github_links = [str(a.attrs['href']).lower() for a in github_links]\n",
    "clean_github_links = [link for link in clean_github_links if 'gist' not in link]\n",
    "\n",
    "repo_links = []\n",
    "repo_str = \"https://github.com/{username}/{reponame}\"\n",
    "pattr = re.compile('github.com/([0-9a-zA-Z]+)/([a-z0-9\\-A-Z]+).*')\n",
    "for link in clean_github_links:\n",
    "    try:\n",
    "        username, repo = pattr.search(link).groups()\n",
    "        repo_links.append(repo_str.format(username=username, reponame=repo))\n",
    "    except:\n",
    "        # no matches\n",
    "        pass\n",
    "    \n",
    "repo_links = set(repo_links)"
   ]
  },
  {
   "cell_type": "code",
   "execution_count": null,
   "metadata": {
    "collapsed": true
   },
   "outputs": [],
   "source": [
    "def is_valid_url(url):\n",
    "    try:\n",
    "        request = ur.Request(url)\n",
    "        response = ur.urlopen(request)\n",
    "        return True\n",
    "    except:\n",
    "        #The url wasn't valid\n",
    "        return False"
   ]
  },
  {
   "cell_type": "code",
   "execution_count": null,
   "metadata": {
    "collapsed": true
   },
   "outputs": [],
   "source": [
    "valid_repo_links = []\n",
    "for link in repo_links:\n",
    "    if is_valid_url(link):\n",
    "        valid_repo_links.append(link)"
   ]
  },
  {
   "cell_type": "code",
   "execution_count": null,
   "metadata": {
    "collapsed": false
   },
   "outputs": [],
   "source": [
    "for link in valid_repo_links:\n",
    "    print(link)"
   ]
  },
  {
   "cell_type": "code",
   "execution_count": null,
   "metadata": {
    "collapsed": false
   },
   "outputs": [],
   "source": [
    "np.savetxt(\"github_links.txt\", valid_repo_links, fmt='%s')"
   ]
  },
  {
   "cell_type": "code",
   "execution_count": null,
   "metadata": {
    "collapsed": true
   },
   "outputs": [],
   "source": []
  }
 ],
 "metadata": {
  "anaconda-cloud": {},
  "git": {
   "suppress_outputs": false
  },
  "kernelspec": {
   "display_name": "Python 2",
   "language": "python",
   "name": "python2"
  },
  "language_info": {
   "codemirror_mode": {
    "name": "ipython",
    "version": 2
   },
   "file_extension": ".py",
   "mimetype": "text/x-python",
   "name": "python",
   "nbconvert_exporter": "python",
   "pygments_lexer": "ipython2",
   "version": "2.7.10"
  }
 },
 "nbformat": 4,
 "nbformat_minor": 1
}
