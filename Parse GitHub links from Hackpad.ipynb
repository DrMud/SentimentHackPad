{
 "cells": [
  {
   "cell_type": "markdown",
   "metadata": {},
   "source": [
    "# Commit Happiness: Part I"
   ]
  },
  {
   "cell_type": "code",
   "execution_count": 3,
   "metadata": {
    "collapsed": false
   },
   "outputs": [
    {
     "name": "stdout",
     "output_type": "stream",
     "text": [
      "Requirement already satisfied (use --upgrade to upgrade): bs4 in /Library/Frameworks/Python.framework/Versions/2.7/lib/python2.7/site-packages\r\n",
      "Requirement already satisfied (use --upgrade to upgrade): beautifulsoup4 in /Library/Frameworks/Python.framework/Versions/2.7/lib/python2.7/site-packages (from bs4)\r\n"
     ]
    }
   ],
   "source": [
    "!pip install bs4"
   ]
  },
  {
   "cell_type": "code",
   "execution_count": 4,
   "metadata": {
    "collapsed": false
   },
   "outputs": [],
   "source": [
    "import re\n",
    "import numpy as np\n",
    "try:\n",
    "    from urllib.request import urlopen, Request\n",
    "    #import urllib.parse as p\n",
    "except ImportError:\n",
    "    #import urlparse as p\n",
    "    from urllib2 import urlopen, Request\n",
    "#import urllib.parse as p\n",
    "#import urllib.request as ur\n",
    "from bs4 import BeautifulSoup"
   ]
  },
  {
   "cell_type": "code",
   "execution_count": 5,
   "metadata": {
    "collapsed": false
   },
   "outputs": [],
   "source": [
    "f = urlopen(\"https://hackpad.com/ep/pad/static/PlmbAyVqqtQ\")\n",
    "the_html = f.read()"
   ]
  },
  {
   "cell_type": "code",
   "execution_count": 6,
   "metadata": {
    "collapsed": false
   },
   "outputs": [],
   "source": [
    "soup = BeautifulSoup(the_html, 'html.parser')"
   ]
  },
  {
   "cell_type": "code",
   "execution_count": 7,
   "metadata": {
    "collapsed": false
   },
   "outputs": [],
   "source": [
    "all_a = soup.find_all('a')"
   ]
  },
  {
   "cell_type": "code",
   "execution_count": 8,
   "metadata": {
    "collapsed": false
   },
   "outputs": [],
   "source": [
    "github_links = []\n",
    "for a in all_a:\n",
    "    if 'href' in a.attrs and a.attrs['href'] is not None and 'github' in a.attrs['href']:\n",
    "        github_links.append(a)"
   ]
  },
  {
   "cell_type": "code",
   "execution_count": 9,
   "metadata": {
    "collapsed": false
   },
   "outputs": [],
   "source": [
    "#github_links"
   ]
  },
  {
   "cell_type": "markdown",
   "metadata": {},
   "source": [
    "There are many duplicates and typos, so we need to clean a bit"
   ]
  },
  {
   "cell_type": "code",
   "execution_count": 10,
   "metadata": {
    "collapsed": false
   },
   "outputs": [],
   "source": [
    "clean_github_links = [str(a.attrs['href']).lower() for a in github_links]\n",
    "clean_github_links = [link for link in clean_github_links if 'gist' not in link]\n",
    "\n",
    "repo_links = []\n",
    "repo_str = \"https://github.com/{username}/{reponame}\"\n",
    "pattr = re.compile('github.com/([0-9a-zA-Z]+)/([a-z0-9\\-A-Z]+).*')\n",
    "for link in clean_github_links:\n",
    "    try:\n",
    "        username, repo = pattr.search(link).groups()\n",
    "        repo_links.append(repo_str.format(username=username, reponame=repo))\n",
    "    except:\n",
    "        # no matches\n",
    "        pass\n",
    "    \n",
    "repo_links = set(repo_links)"
   ]
  },
  {
   "cell_type": "code",
   "execution_count": 11,
   "metadata": {
    "collapsed": true
   },
   "outputs": [],
   "source": [
    "def is_valid_url(url):\n",
    "    try:\n",
    "        request = Request(url)\n",
    "        response = urlopen(request)\n",
    "        return True\n",
    "    except:\n",
    "        #The url wasn't valid\n",
    "        return False"
   ]
  },
  {
   "cell_type": "code",
   "execution_count": 12,
   "metadata": {
    "collapsed": true
   },
   "outputs": [],
   "source": [
    "valid_repo_links = []\n",
    "for link in repo_links:\n",
    "    if is_valid_url(link):\n",
    "        valid_repo_links.append(link)"
   ]
  },
  {
   "cell_type": "code",
   "execution_count": 13,
   "metadata": {
    "collapsed": false
   },
   "outputs": [
    {
     "name": "stdout",
     "output_type": "stream",
     "text": [
      "https://github.com/adrn/dropoutput\n",
      "https://github.com/astrohackweek/astrohackweek2016\n",
      "https://github.com/benelson/collaboratr\n",
      "https://github.com/astrohackweek/astrohackweek2015\n",
      "https://github.com/drmud/sentimenthackpad\n",
      "https://github.com/adrn/ebak\n",
      "https://github.com/pmelchior/skymapper\n",
      "https://github.com/benanne/kaggle-galaxies\n",
      "https://github.com/mbaumer/gcorr\n",
      "https://github.com/caseyjlaw/activegit\n",
      "https://github.com/darkenergysciencecollaboration/slcosmo\n",
      "https://github.com/rudyphd/x-class\n",
      "https://github.com/bccp/bananaplots\n",
      "https://github.com/usmanwardag/hackdb\n",
      "https://github.com/eggplantbren/forest\n",
      "https://github.com/aimalz/densityfield\n",
      "https://github.com/laynep/learnasyougoemulator\n",
      "https://github.com/davidwhogg/diffractionmicroscopy\n",
      "https://github.com/freelanceastro/galactic-machine-learning\n",
      "https://github.com/dhuppenkothen/xrayresponder\n",
      "https://github.com/jbwhit/calicompari\n",
      "https://github.com/stingraysoftware/stingray\n",
      "https://github.com/ellisonbg/altair\n",
      "https://github.com/kbarbary/autodiff\n",
      "https://github.com/sherpa/sherpa\n",
      "https://github.com/drphilmarshall/colormaps\n",
      "https://github.com/kfollette/notebook-teachingtips\n",
      "https://github.com/patscott/pippi\n",
      "https://github.com/bccp/imaginglss-notebooks\n",
      "https://github.com/jbwhit/autofitting\n",
      "https://github.com/dotastro/hacks-collector\n",
      "https://github.com/eggplantbren/starfield2\n",
      "https://github.com/tholoien/empiricisn\n"
     ]
    }
   ],
   "source": [
    "for link in valid_repo_links:\n",
    "    print(link)"
   ]
  },
  {
   "cell_type": "code",
   "execution_count": 14,
   "metadata": {
    "collapsed": false
   },
   "outputs": [],
   "source": [
    "np.savetxt(\"github_links.txt\", valid_repo_links, fmt='%s')"
   ]
  },
  {
   "cell_type": "code",
   "execution_count": null,
   "metadata": {
    "collapsed": true
   },
   "outputs": [],
   "source": []
  }
 ],
 "metadata": {
  "anaconda-cloud": {},
  "git": {
   "suppress_outputs": false
  },
  "kernelspec": {
   "display_name": "Python 2",
   "language": "python",
   "name": "python2"
  },
  "language_info": {
   "codemirror_mode": {
    "name": "ipython",
    "version": 2
   },
   "file_extension": ".py",
   "mimetype": "text/x-python",
   "name": "python",
   "nbconvert_exporter": "python",
   "pygments_lexer": "ipython2",
   "version": "2.7.10"
  }
 },
 "nbformat": 4,
 "nbformat_minor": 1
}
