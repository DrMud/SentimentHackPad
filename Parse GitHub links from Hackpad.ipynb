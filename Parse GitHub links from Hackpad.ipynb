{
 "cells": [
  {
   "cell_type": "markdown",
   "metadata": {},
   "source": [
    "# Commit Happiness: Part I"
   ]
  },
  {
   "cell_type": "code",
   "execution_count": 1,
   "metadata": {
    "collapsed": false
   },
   "outputs": [
    {
     "name": "stdout",
     "output_type": "stream",
     "text": [
      "Requirement already satisfied (use --upgrade to upgrade): bs4 in /Library/Frameworks/Python.framework/Versions/2.7/lib/python2.7/site-packages\r\n",
      "Requirement already satisfied (use --upgrade to upgrade): beautifulsoup4 in /Library/Frameworks/Python.framework/Versions/2.7/lib/python2.7/site-packages (from bs4)\r\n"
     ]
    }
   ],
   "source": [
    "!pip install bs4"
   ]
  },
  {
   "cell_type": "code",
   "execution_count": 2,
   "metadata": {
    "collapsed": false
   },
   "outputs": [],
   "source": [
    "import re\n",
    "import numpy as np\n",
    "try:\n",
    "    import urllib.request as ur\n",
    "    import urllib.parse as p\n",
    "except ImportError:\n",
    "    import urlparse as p\n",
    "    import urllib as ur\n",
    "#import urllib.parse as p\n",
    "#import urllib.request as ur\n",
    "from bs4 import BeautifulSoup"
   ]
  },
  {
   "cell_type": "code",
   "execution_count": 3,
   "metadata": {
    "collapsed": false
   },
   "outputs": [],
   "source": [
    "f = ur.urlopen(\"https://hackpad.com/ep/pad/static/PlmbAyVqqtQ\")\n",
    "the_html = f.read()"
   ]
  },
  {
   "cell_type": "code",
   "execution_count": 4,
   "metadata": {
    "collapsed": false
   },
   "outputs": [],
   "source": [
    "soup = BeautifulSoup(the_html, 'html.parser')"
   ]
  },
  {
   "cell_type": "code",
   "execution_count": 5,
   "metadata": {
    "collapsed": false
   },
   "outputs": [],
   "source": [
    "all_a = soup.find_all('a')"
   ]
  },
  {
   "cell_type": "code",
   "execution_count": 6,
   "metadata": {
    "collapsed": false
   },
   "outputs": [],
   "source": [
    "github_links = []\n",
    "for a in all_a:\n",
    "    if 'href' in a.attrs and a.attrs['href'] is not None and 'github' in a.attrs['href']:\n",
    "        github_links.append(a)"
   ]
  },
  {
   "cell_type": "code",
   "execution_count": 7,
   "metadata": {
    "collapsed": false
   },
   "outputs": [],
   "source": [
    "#github_links"
   ]
  },
  {
   "cell_type": "markdown",
   "metadata": {},
   "source": [
    "There are many duplicates and typos, so we need to clean a bit"
   ]
  },
  {
   "cell_type": "code",
   "execution_count": 8,
   "metadata": {
    "collapsed": false
   },
   "outputs": [],
   "source": [
    "clean_github_links = [str(a.attrs['href']).lower() for a in github_links]\n",
    "clean_github_links = [link for link in clean_github_links if 'gist' not in link]\n",
    "\n",
    "repo_links = []\n",
    "repo_str = \"https://github.com/{username}/{reponame}\"\n",
    "pattr = re.compile('github.com/([0-9a-zA-Z]+)/([a-z0-9\\-A-Z]+).*')\n",
    "for link in clean_github_links:\n",
    "    try:\n",
    "        username, repo = pattr.search(link).groups()\n",
    "        repo_links.append(repo_str.format(username=username, reponame=repo))\n",
    "    except:\n",
    "        # no matches\n",
    "        pass\n",
    "    \n",
    "repo_links = set(repo_links)"
   ]
  },
  {
   "cell_type": "code",
   "execution_count": 9,
   "metadata": {
    "collapsed": true
   },
   "outputs": [],
   "source": [
    "def is_valid_url(url):\n",
    "    try:\n",
    "        request = ur.Request(url)\n",
    "        response = ur.urlopen(request)\n",
    "        return True\n",
    "    except:\n",
    "        #The url wasn't valid\n",
    "        return False"
   ]
  },
  {
   "cell_type": "code",
   "execution_count": 10,
   "metadata": {
    "collapsed": true
   },
   "outputs": [],
   "source": [
    "valid_repo_links = []\n",
    "for link in repo_links:\n",
    "    if is_valid_url(link):\n",
    "        valid_repo_links.append(link)"
   ]
  },
  {
   "cell_type": "code",
   "execution_count": 11,
   "metadata": {
    "collapsed": false
   },
   "outputs": [],
   "source": [
    "for link in valid_repo_links:\n",
    "    print(link)"
   ]
  },
  {
   "cell_type": "code",
   "execution_count": 12,
   "metadata": {
    "collapsed": false
   },
   "outputs": [],
   "source": [
    "np.savetxt(\"github_links.txt\", valid_repo_links, fmt='%s')"
   ]
  },
  {
   "cell_type": "code",
   "execution_count": null,
   "metadata": {
    "collapsed": true
   },
   "outputs": [],
   "source": []
  }
 ],
 "metadata": {
  "anaconda-cloud": {},
  "git": {
   "suppress_outputs": false
  },
  "kernelspec": {
   "display_name": "Python 2",
   "language": "python",
   "name": "python2"
  },
  "language_info": {
   "codemirror_mode": {
    "name": "ipython",
    "version": 2
   },
   "file_extension": ".py",
   "mimetype": "text/x-python",
   "name": "python",
   "nbconvert_exporter": "python",
   "pygments_lexer": "ipython2",
   "version": "2.7.10"
  }
 },
 "nbformat": 4,
 "nbformat_minor": 1
}
