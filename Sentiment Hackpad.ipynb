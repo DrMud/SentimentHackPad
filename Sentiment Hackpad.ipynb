{
 "cells": [
  {
   "cell_type": "code",
   "execution_count": 1,
   "metadata": {
    "collapsed": false
   },
   "outputs": [
    {
     "name": "stdout",
     "output_type": "stream",
     "text": [
      "Requirement already satisfied (use --upgrade to upgrade): textblob in /Library/Frameworks/Python.framework/Versions/2.7/lib/python2.7/site-packages\r\n",
      "Requirement already satisfied (use --upgrade to upgrade): nltk>=3.1 in /Library/Frameworks/Python.framework/Versions/2.7/lib/python2.7/site-packages (from textblob)\r\n"
     ]
    }
   ],
   "source": [
    "!pip install textblob"
   ]
  },
  {
   "cell_type": "code",
   "execution_count": 2,
   "metadata": {
    "collapsed": false
   },
   "outputs": [],
   "source": [
    "from __future__ import unicode_literals, print_function\n",
    "import textblob\n",
    "import pandas as pd\n",
    "#import sys\n",
    "#reload(sys)\n",
    "#sys.setdefaultencoding(\"utf8\")"
   ]
  },
  {
   "cell_type": "code",
   "execution_count": 3,
   "metadata": {
    "collapsed": false
   },
   "outputs": [
    {
     "data": {
      "text/plain": [
       "-0.8"
      ]
     },
     "execution_count": 3,
     "metadata": {},
     "output_type": "execute_result"
    }
   ],
   "source": [
    "textblob.TextBlob(\"Hello World I hate you\").sentiment.polarity"
   ]
  },
  {
   "cell_type": "code",
   "execution_count": 4,
   "metadata": {
    "collapsed": false
   },
   "outputs": [
    {
     "data": {
      "text/plain": [
       "0.5"
      ]
     },
     "execution_count": 4,
     "metadata": {},
     "output_type": "execute_result"
    }
   ],
   "source": [
    "textblob.TextBlob(\"Hello World I love you\").sentiment.polarity"
   ]
  },
  {
   "cell_type": "code",
   "execution_count": 5,
   "metadata": {
    "collapsed": true
   },
   "outputs": [],
   "source": [
    "textfile = \"./hackpadtext.txt\""
   ]
  },
  {
   "cell_type": "code",
   "execution_count": 6,
   "metadata": {
    "collapsed": false
   },
   "outputs": [],
   "source": [
    "rawdata = pd.read_csv(textfile, header=None, sep=\"\\n\", encoding=\"utf-8\")\n",
    "#print rawdata"
   ]
  },
  {
   "cell_type": "code",
   "execution_count": 7,
   "metadata": {
    "collapsed": true
   },
   "outputs": [],
   "source": [
    "polarities = []"
   ]
  },
  {
   "cell_type": "code",
   "execution_count": 10,
   "metadata": {
    "collapsed": false
   },
   "outputs": [
    {
     "name": "stdout",
     "output_type": "stream",
     "text": [
      "0.625\n",
      "0.0193181818182\n",
      "0.15\n",
      "0.0\n",
      "0.191666666667\n",
      "0.25\n",
      "0.1\n",
      "0.291666666667\n",
      "0.375\n",
      "0.0\n",
      "0.0\n",
      "-0.0888888888889\n",
      "0.0752525252525\n",
      "0.08875\n",
      "0.375\n",
      "0.0\n",
      "-0.316666666667\n",
      "0.1\n",
      "0.166419294991\n",
      "0.055\n",
      "0.5\n",
      "0.0\n",
      "0.0\n",
      "0.0\n",
      "-0.0218181818182\n",
      "-0.225952380952\n",
      "0.0\n",
      "0.0\n",
      "0.0718614718615\n",
      "0.5\n",
      "0.375\n",
      "0.216666666667\n",
      "0.0985347985348\n",
      "0.175\n",
      "0.25\n",
      "0.4375\n",
      "0.625\n",
      "0.113541666667\n",
      "0.0\n",
      "-0.0218181818182\n",
      "0.308444444444\n",
      "0.45\n",
      "0.2625\n",
      "0.205\n",
      "0.25\n",
      "0.180952380952\n",
      "0.259523809524\n",
      "0.116666666667\n",
      "0.0\n",
      "-0.129166666667\n",
      "0.4625\n",
      "0.6875\n",
      "0.459090909091\n",
      "0.0\n",
      "0.0764583333333\n",
      "0.147619047619\n",
      "0.375\n",
      "0.104761904762\n",
      "0.25\n",
      "0.35\n",
      "0.25\n",
      "-0.0111772486772\n",
      "0.5\n",
      "0.239930555556\n",
      "0.2\n",
      "0.35\n",
      "0.375\n",
      "0.0625\n",
      "0.0\n",
      "0.0\n",
      "0.131818181818\n",
      "-0.148863636364\n",
      "0.105555555556\n",
      "0.1125\n",
      "0.09375\n",
      "0.0\n",
      "0.21875\n",
      "0.15\n",
      "0.333333333333\n",
      "-0.0107142857143\n",
      "0.4\n",
      "0.0\n",
      "0.5\n",
      "0.240374331551\n",
      "0.625\n",
      "0.7\n",
      "0.0\n",
      "0.875\n",
      "0.177232142857\n",
      "-0.11\n",
      "0.5\n",
      "0.175\n",
      "-0.09375\n",
      "0.0416666666667\n",
      "0.0\n",
      "0.125793650794\n",
      "0.0\n",
      "0.0113636363636\n",
      "0.8\n",
      "0.0\n",
      "0.386666666667\n",
      "0.169047619048\n",
      "0.386666666667\n",
      "0.15\n"
     ]
    }
   ],
   "source": [
    "for i in rawdata.index:\n",
    "    data = rawdata.loc[i].values[0]\n",
    "    #print(data)\n",
    "    polarity = textblob.TextBlob(data).sentiment.polarity\n",
    "    print(polarity)\n",
    "    polarities.append(polarity)"
   ]
  },
  {
   "cell_type": "code",
   "execution_count": 11,
   "metadata": {
    "collapsed": false
   },
   "outputs": [
    {
     "name": "stdout",
     "output_type": "stream",
     "text": [
      "0.186349310623\n"
     ]
    }
   ],
   "source": [
    "average_feels = sum(polarities)/len(polarities)\n",
    "print(average_feels)"
   ]
  },
  {
   "cell_type": "code",
   "execution_count": null,
   "metadata": {
    "collapsed": true
   },
   "outputs": [],
   "source": []
  }
 ],
 "metadata": {
  "kernelspec": {
   "display_name": "Python 2",
   "language": "python",
   "name": "python2"
  },
  "language_info": {
   "codemirror_mode": {
    "name": "ipython",
    "version": 2
   },
   "file_extension": ".py",
   "mimetype": "text/x-python",
   "name": "python",
   "nbconvert_exporter": "python",
   "pygments_lexer": "ipython2",
   "version": "2.7.10"
  }
 },
 "nbformat": 4,
 "nbformat_minor": 0
}
