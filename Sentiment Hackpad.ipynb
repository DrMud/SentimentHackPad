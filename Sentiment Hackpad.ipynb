{
 "cells": [
  {
   "cell_type": "markdown",
   "metadata": {},
   "source": [
    "<h1> Sentiment Hackpad </h1>"
   ]
  },
  {
   "cell_type": "markdown",
   "metadata": {},
   "source": [
    "#### Authors: \n",
    "Daniela Huppenkothen, Phil Marshall, Madhura Killedar"
   ]
  },
  {
   "cell_type": "code",
   "execution_count": 22,
   "metadata": {
    "collapsed": false
   },
   "outputs": [
    {
     "name": "stdout",
     "output_type": "stream",
     "text": [
      "Requirement already satisfied (use --upgrade to upgrade): textblob in /Users/discworld/miniconda3/lib/python3.5/site-packages\r\n",
      "Requirement already satisfied (use --upgrade to upgrade): nltk>=3.1 in /Users/discworld/miniconda3/lib/python3.5/site-packages (from textblob)\r\n"
     ]
    }
   ],
   "source": [
    "!pip install textblob"
   ]
  },
  {
   "cell_type": "code",
   "execution_count": 23,
   "metadata": {
    "collapsed": false
   },
   "outputs": [],
   "source": [
    "from __future__ import unicode_literals, print_function\n",
    "import textblob\n",
    "import pandas as pd\n",
    "import numpy as np"
   ]
  },
  {
   "cell_type": "markdown",
   "metadata": {},
   "source": [
    "### Test data\n",
    "As a quick test, we feed some text into the textblob sentiment analyzer.\n",
    "\n",
    "`polarity` can range from -1 to 1.\n",
    "* -1 reflects extreme negative associations\n",
    "* 1 reflects extreme positive associations\n",
    "* 0 is neutral language"
   ]
  },
  {
   "cell_type": "code",
   "execution_count": 24,
   "metadata": {
    "collapsed": false
   },
   "outputs": [
    {
     "data": {
      "text/plain": [
       "-0.8"
      ]
     },
     "execution_count": 24,
     "metadata": {},
     "output_type": "execute_result"
    }
   ],
   "source": [
    "textblob.TextBlob(\"Hello World I hate you\").sentiment.polarity"
   ]
  },
  {
   "cell_type": "code",
   "execution_count": 25,
   "metadata": {
    "collapsed": false
   },
   "outputs": [
    {
     "data": {
      "text/plain": [
       "0.5"
      ]
     },
     "execution_count": 25,
     "metadata": {},
     "output_type": "execute_result"
    }
   ],
   "source": [
    "textblob.TextBlob(\"Hello World I love you\").sentiment.polarity"
   ]
  },
  {
   "cell_type": "markdown",
   "metadata": {},
   "source": [
    "### Hackpad data"
   ]
  },
  {
   "cell_type": "markdown",
   "metadata": {},
   "source": [
    "#### Read data\n",
    "\n",
    "To do: Find a more automatic text-scraping method"
   ]
  },
  {
   "cell_type": "code",
   "execution_count": 26,
   "metadata": {
    "collapsed": true
   },
   "outputs": [],
   "source": [
    "textfile = \"../hackpadtext_Thu_active.txt\""
   ]
  },
  {
   "cell_type": "code",
   "execution_count": 27,
   "metadata": {
    "collapsed": false
   },
   "outputs": [],
   "source": [
    "rawdata = pd.read_csv(textfile, header=None, names=[\"text\"], sep=\"\\n\", encoding=\"utf-8\")"
   ]
  },
  {
   "cell_type": "markdown",
   "metadata": {},
   "source": [
    "#### Analyse \n",
    "Analyse and store polarity of each chunk"
   ]
  },
  {
   "cell_type": "code",
   "execution_count": 28,
   "metadata": {
    "collapsed": false
   },
   "outputs": [],
   "source": [
    "rawdata[\"polarity\"] = np.zeros_like(np.array(rawdata.columns[\"0\"]))"
   ]
  },
  {
   "cell_type": "code",
   "execution_count": 29,
   "metadata": {
    "collapsed": false
   },
   "outputs": [],
   "source": [
    "# analyse each data/hack idea\n",
    "feelings = []\n",
    "for i in rawdata.index:\n",
    "    data = rawdata.loc[i].values[0]\n",
    "    polarity = textblob.TextBlob(data).sentiment.polarity\n",
    "    rawdata.loc[i,\"polarity\"] = polarity\n",
    "    feelings.append(polarity)"
   ]
  },
  {
   "cell_type": "markdown",
   "metadata": {},
   "source": [
    "How happy are we on average?"
   ]
  },
  {
   "cell_type": "code",
   "execution_count": 30,
   "metadata": {
    "collapsed": false
   },
   "outputs": [
    {
     "name": "stdout",
     "output_type": "stream",
     "text": [
      "0.126935835329\n"
     ]
    }
   ],
   "source": [
    "average_feels = sum(feelings)/len(feelings)\n",
    "print(average_feels)"
   ]
  },
  {
   "cell_type": "code",
   "execution_count": 31,
   "metadata": {
    "collapsed": false
   },
   "outputs": [
    {
     "name": "stdout",
     "output_type": "stream",
     "text": [
      "Yay, we're happy! wooooooooooo!\n"
     ]
    }
   ],
   "source": [
    "if average_feels>0:\n",
    "    print(\"Yay, we're happy! wooooooooooo!\")\n",
    "else:\n",
    "    print(\"oh no not happy jan\")"
   ]
  },
  {
   "cell_type": "markdown",
   "metadata": {},
   "source": [
    "Who sounds sad?"
   ]
  },
  {
   "cell_type": "code",
   "execution_count": 32,
   "metadata": {
    "collapsed": false
   },
   "outputs": [
    {
     "data": {
      "text/html": [
       "<div>\n",
       "<table border=\"1\" class=\"dataframe\">\n",
       "  <thead>\n",
       "    <tr style=\"text-align: right;\">\n",
       "      <th></th>\n",
       "      <th>text</th>\n",
       "      <th>polarity</th>\n",
       "    </tr>\n",
       "  </thead>\n",
       "  <tbody>\n",
       "    <tr>\n",
       "      <th>9</th>\n",
       "      <td>AstroHackWeek image Gallery - (Arna) Image gal...</td>\n",
       "      <td>-0.0375</td>\n",
       "    </tr>\n",
       "    <tr>\n",
       "      <th>18</th>\n",
       "      <td>Deprojecting Galaxies (or molecular structure)...</td>\n",
       "      <td>-0.0888889</td>\n",
       "    </tr>\n",
       "    <tr>\n",
       "      <th>23</th>\n",
       "      <td>Here's my ongoing failure in notebook form</td>\n",
       "      <td>-0.316667</td>\n",
       "    </tr>\n",
       "    <tr>\n",
       "      <th>32</th>\n",
       "      <td>Classifying the pulse shapes of pulsars using ...</td>\n",
       "      <td>-0.0218182</td>\n",
       "    </tr>\n",
       "    <tr>\n",
       "      <th>33</th>\n",
       "      <td>A custom Monte Carlo sampler for the Kepler pr...</td>\n",
       "      <td>-0.225952</td>\n",
       "    </tr>\n",
       "    <tr>\n",
       "      <th>38</th>\n",
       "      <td>Making MCMC fail on problems with implicit, fl...</td>\n",
       "      <td>-0.00625</td>\n",
       "    </tr>\n",
       "  </tbody>\n",
       "</table>\n",
       "</div>"
      ],
      "text/plain": [
       "                                                 text   polarity\n",
       "9   AstroHackWeek image Gallery - (Arna) Image gal...    -0.0375\n",
       "18  Deprojecting Galaxies (or molecular structure)... -0.0888889\n",
       "23        Here's my ongoing failure in notebook form   -0.316667\n",
       "32  Classifying the pulse shapes of pulsars using ... -0.0218182\n",
       "33  A custom Monte Carlo sampler for the Kepler pr...  -0.225952\n",
       "38  Making MCMC fail on problems with implicit, fl...   -0.00625"
      ]
     },
     "execution_count": 32,
     "metadata": {},
     "output_type": "execute_result"
    }
   ],
   "source": [
    "# search for sad hacks\n",
    "rawdata[rawdata[\"polarity\"]<0]"
   ]
  },
  {
   "cell_type": "code",
   "execution_count": 33,
   "metadata": {
    "collapsed": false
   },
   "outputs": [],
   "source": [
    "# search for happy hacks\n",
    "#rawdata[rawdata[\"polarity\"]>0]"
   ]
  },
  {
   "cell_type": "code",
   "execution_count": 34,
   "metadata": {
    "collapsed": false
   },
   "outputs": [
    {
     "data": {
      "text/html": [
       "<div>\n",
       "<table border=\"1\" class=\"dataframe\">\n",
       "  <thead>\n",
       "    <tr style=\"text-align: right;\">\n",
       "      <th></th>\n",
       "      <th>text</th>\n",
       "      <th>polarity</th>\n",
       "    </tr>\n",
       "  </thead>\n",
       "  <tbody>\n",
       "    <tr>\n",
       "      <th>4</th>\n",
       "      <td>Tips and Tricks for Teaching with Jupyter Note...</td>\n",
       "      <td>1</td>\n",
       "    </tr>\n",
       "    <tr>\n",
       "      <th>3</th>\n",
       "      <td>Gaussian Process Tutorial (Jake/Phil) We start...</td>\n",
       "      <td>0.625</td>\n",
       "    </tr>\n",
       "    <tr>\n",
       "      <th>27</th>\n",
       "      <td>collaboratr (Mike Baumer,  Usman Khan, Casey L...</td>\n",
       "      <td>0.5</td>\n",
       "    </tr>\n",
       "    <tr>\n",
       "      <th>37</th>\n",
       "      <td>Create color palettes for custom queries (Adri...</td>\n",
       "      <td>0.5</td>\n",
       "    </tr>\n",
       "    <tr>\n",
       "      <th>1</th>\n",
       "      <td>AstroHackWeek HackPad Happiness (Madhura, Dani...</td>\n",
       "      <td>0.46875</td>\n",
       "    </tr>\n",
       "  </tbody>\n",
       "</table>\n",
       "</div>"
      ],
      "text/plain": [
       "                                                 text polarity\n",
       "4   Tips and Tricks for Teaching with Jupyter Note...        1\n",
       "3   Gaussian Process Tutorial (Jake/Phil) We start...    0.625\n",
       "27  collaboratr (Mike Baumer,  Usman Khan, Casey L...      0.5\n",
       "37  Create color palettes for custom queries (Adri...      0.5\n",
       "1   AstroHackWeek HackPad Happiness (Madhura, Dani...  0.46875"
      ]
     },
     "execution_count": 34,
     "metadata": {},
     "output_type": "execute_result"
    }
   ],
   "source": [
    "# Top Five Happy Hacks!\n",
    "rawdata.sort_values(\"polarity\")[::-1][:5]"
   ]
  },
  {
   "cell_type": "markdown",
   "metadata": {},
   "source": [
    "Wait... most of those sound like comments, not hacks!"
   ]
  },
  {
   "cell_type": "markdown",
   "metadata": {},
   "source": [
    "### Hackpad data (filtering out short comments)\n",
    "Now, we'll assume and hope that a chunk of text with more than 20 words is an actual hack project idea as opposed to a comment. This isn't always true, so there's room for improvement."
   ]
  },
  {
   "cell_type": "code",
   "execution_count": 35,
   "metadata": {
    "collapsed": true
   },
   "outputs": [],
   "source": [
    "rawdata[\"mask\"] = np.zeros_like(np.array(rawdata.columns[\"0\"]))"
   ]
  },
  {
   "cell_type": "code",
   "execution_count": 36,
   "metadata": {
    "collapsed": false
   },
   "outputs": [],
   "source": [
    "# select only \n",
    "for i in rawdata.index:\n",
    "    if len(rawdata.loc[i,\"text\"].split(\" \"))>20:\n",
    "        rawdata.loc[i,\"mask\"] = True\n",
    "    else:\n",
    "        rawdata.loc[i,\"mask\"] = False"
   ]
  },
  {
   "cell_type": "markdown",
   "metadata": {},
   "source": [
    "New dataset only includes hacks, not comments"
   ]
  },
  {
   "cell_type": "code",
   "execution_count": 44,
   "metadata": {
    "collapsed": false
   },
   "outputs": [],
   "source": [
    "hackdata = rawdata[rawdata[\"mask\"]]"
   ]
  },
  {
   "cell_type": "code",
   "execution_count": 38,
   "metadata": {
    "collapsed": false
   },
   "outputs": [
    {
     "data": {
      "text/html": [
       "<div>\n",
       "<table border=\"1\" class=\"dataframe\">\n",
       "  <thead>\n",
       "    <tr style=\"text-align: right;\">\n",
       "      <th></th>\n",
       "      <th>text</th>\n",
       "      <th>polarity</th>\n",
       "      <th>mask</th>\n",
       "    </tr>\n",
       "  </thead>\n",
       "  <tbody>\n",
       "    <tr>\n",
       "      <th>33</th>\n",
       "      <td>A custom Monte Carlo sampler for the Kepler pr...</td>\n",
       "      <td>-0.225952</td>\n",
       "      <td>True</td>\n",
       "    </tr>\n",
       "    <tr>\n",
       "      <th>18</th>\n",
       "      <td>Deprojecting Galaxies (or molecular structure)...</td>\n",
       "      <td>-0.0888889</td>\n",
       "      <td>True</td>\n",
       "    </tr>\n",
       "    <tr>\n",
       "      <th>9</th>\n",
       "      <td>AstroHackWeek image Gallery - (Arna) Image gal...</td>\n",
       "      <td>-0.0375</td>\n",
       "      <td>True</td>\n",
       "    </tr>\n",
       "    <tr>\n",
       "      <th>32</th>\n",
       "      <td>Classifying the pulse shapes of pulsars using ...</td>\n",
       "      <td>-0.0218182</td>\n",
       "      <td>True</td>\n",
       "    </tr>\n",
       "    <tr>\n",
       "      <th>38</th>\n",
       "      <td>Making MCMC fail on problems with implicit, fl...</td>\n",
       "      <td>-0.00625</td>\n",
       "      <td>True</td>\n",
       "    </tr>\n",
       "  </tbody>\n",
       "</table>\n",
       "</div>"
      ],
      "text/plain": [
       "                                                 text   polarity  mask\n",
       "33  A custom Monte Carlo sampler for the Kepler pr...  -0.225952  True\n",
       "18  Deprojecting Galaxies (or molecular structure)... -0.0888889  True\n",
       "9   AstroHackWeek image Gallery - (Arna) Image gal...    -0.0375  True\n",
       "32  Classifying the pulse shapes of pulsars using ... -0.0218182  True\n",
       "38  Making MCMC fail on problems with implicit, fl...   -0.00625  True"
      ]
     },
     "execution_count": 38,
     "metadata": {},
     "output_type": "execute_result"
    }
   ],
   "source": [
    "#Top Five Sad Actually-Hacks (probably)\n",
    "hackdata.sort_values(\"polarity\")[:5]"
   ]
  },
  {
   "cell_type": "code",
   "execution_count": 39,
   "metadata": {
    "collapsed": false
   },
   "outputs": [
    {
     "data": {
      "text/html": [
       "<div>\n",
       "<table border=\"1\" class=\"dataframe\">\n",
       "  <thead>\n",
       "    <tr style=\"text-align: right;\">\n",
       "      <th></th>\n",
       "      <th>text</th>\n",
       "      <th>polarity</th>\n",
       "      <th>mask</th>\n",
       "    </tr>\n",
       "  </thead>\n",
       "  <tbody>\n",
       "    <tr>\n",
       "      <th>4</th>\n",
       "      <td>Tips and Tricks for Teaching with Jupyter Note...</td>\n",
       "      <td>1</td>\n",
       "      <td>True</td>\n",
       "    </tr>\n",
       "    <tr>\n",
       "      <th>3</th>\n",
       "      <td>Gaussian Process Tutorial (Jake/Phil) We start...</td>\n",
       "      <td>0.625</td>\n",
       "      <td>True</td>\n",
       "    </tr>\n",
       "    <tr>\n",
       "      <th>37</th>\n",
       "      <td>Create color palettes for custom queries (Adri...</td>\n",
       "      <td>0.5</td>\n",
       "      <td>True</td>\n",
       "    </tr>\n",
       "    <tr>\n",
       "      <th>27</th>\n",
       "      <td>collaboratr (Mike Baumer,  Usman Khan, Casey L...</td>\n",
       "      <td>0.5</td>\n",
       "      <td>True</td>\n",
       "    </tr>\n",
       "    <tr>\n",
       "      <th>1</th>\n",
       "      <td>AstroHackWeek HackPad Happiness (Madhura, Dani...</td>\n",
       "      <td>0.46875</td>\n",
       "      <td>True</td>\n",
       "    </tr>\n",
       "  </tbody>\n",
       "</table>\n",
       "</div>"
      ],
      "text/plain": [
       "                                                 text polarity  mask\n",
       "4   Tips and Tricks for Teaching with Jupyter Note...        1  True\n",
       "3   Gaussian Process Tutorial (Jake/Phil) We start...    0.625  True\n",
       "37  Create color palettes for custom queries (Adri...      0.5  True\n",
       "27  collaboratr (Mike Baumer,  Usman Khan, Casey L...      0.5  True\n",
       "1   AstroHackWeek HackPad Happiness (Madhura, Dani...  0.46875  True"
      ]
     },
     "execution_count": 39,
     "metadata": {},
     "output_type": "execute_result"
    }
   ],
   "source": [
    "# Top Five Happy Actually-Hacks (probably)\n",
    "hackdata.sort_values(\"polarity\")[::-1][:5]"
   ]
  },
  {
   "cell_type": "markdown",
   "metadata": {},
   "source": [
    "Repeat analysis from earlier"
   ]
  },
  {
   "cell_type": "code",
   "execution_count": 40,
   "metadata": {
    "collapsed": true
   },
   "outputs": [],
   "source": [
    "moarfeelings = []\n",
    "for i in hackdata.index:\n",
    "    data = hackdata.loc[i].values[0]\n",
    "    polarity = textblob.TextBlob(data).sentiment.polarity\n",
    "    moarfeelings.append(polarity)"
   ]
  },
  {
   "cell_type": "code",
   "execution_count": 41,
   "metadata": {
    "collapsed": false
   },
   "outputs": [
    {
     "name": "stdout",
     "output_type": "stream",
     "text": [
      "0.174720151589\n"
     ]
    }
   ],
   "source": [
    "average_feels = sum(moarfeelings)/len(moarfeelings)\n",
    "print(average_feels)"
   ]
  },
  {
   "cell_type": "code",
   "execution_count": 42,
   "metadata": {
    "collapsed": false
   },
   "outputs": [
    {
     "name": "stdout",
     "output_type": "stream",
     "text": [
      "YAY, WE'RE ACTUALLY HAPPY! wooooooooooo!\n"
     ]
    }
   ],
   "source": [
    "if average_feels>0:\n",
    "    print(\"YAY, WE'RE ACTUALLY HAPPY! wooooooooooo!\")\n",
    "else:\n",
    "    print(\"oh no we're actually sad\")"
   ]
  },
  {
   "cell_type": "code",
   "execution_count": null,
   "metadata": {
    "collapsed": true
   },
   "outputs": [],
   "source": []
  }
 ],
 "metadata": {
  "kernelspec": {
   "display_name": "Python 2",
   "language": "python",
   "name": "python2"
  },
  "language_info": {
   "codemirror_mode": {
    "name": "ipython",
    "version": 2
   },
   "file_extension": ".py",
   "mimetype": "text/x-python",
   "name": "python",
   "nbconvert_exporter": "python",
   "pygments_lexer": "ipython2",
   "version": "2.7.10"
  }
 },
 "nbformat": 4,
 "nbformat_minor": 0
}
