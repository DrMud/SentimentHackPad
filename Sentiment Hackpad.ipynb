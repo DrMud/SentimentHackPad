{
 "cells": [
  {
   "cell_type": "markdown",
   "metadata": {},
   "source": [
    "<h1> Sentiment Hackpad </h1>"
   ]
  },
  {
   "cell_type": "markdown",
   "metadata": {},
   "source": [
    "#### Authors: \n",
    "Daniela Huppenkothen, Phil Marshall, Madhura Killedar"
   ]
  },
  {
   "cell_type": "code",
   "execution_count": 1,
   "metadata": {
    "collapsed": false
   },
   "outputs": [
    {
     "name": "stdout",
     "output_type": "stream",
     "text": [
      "Requirement already satisfied (use --upgrade to upgrade): textblob in /Users/discworld/miniconda3/lib/python3.5/site-packages\n",
      "Requirement already satisfied (use --upgrade to upgrade): nltk>=3.1 in /Users/discworld/miniconda3/lib/python3.5/site-packages (from textblob)\n"
     ]
    }
   ],
   "source": [
    "!pip install textblob"
   ]
  },
  {
   "cell_type": "code",
   "execution_count": 2,
   "metadata": {
    "collapsed": false
   },
   "outputs": [],
   "source": [
    "from __future__ import unicode_literals, print_function\n",
    "import textblob\n",
    "import pandas as pd\n",
    "import numpy as np"
   ]
  },
  {
   "cell_type": "markdown",
   "metadata": {},
   "source": [
    "### Test data\n",
    "As a quick test, we feed some text into the textblob sentiment analyzer.\n",
    "\n",
    "`polarity` can range from -1 to 1.\n",
    "* -1 reflects extreme negative associations\n",
    "* 1 reflects extreme positive associations\n",
    "* 0 is neutral language"
   ]
  },
  {
   "cell_type": "code",
   "execution_count": 3,
   "metadata": {
    "collapsed": false
   },
   "outputs": [
    {
     "data": {
      "text/plain": [
       "-0.8"
      ]
     },
     "execution_count": 3,
     "metadata": {},
     "output_type": "execute_result"
    }
   ],
   "source": [
    "textblob.TextBlob(\"Hello World I hate you\").sentiment.polarity"
   ]
  },
  {
   "cell_type": "code",
   "execution_count": 4,
   "metadata": {
    "collapsed": false
   },
   "outputs": [
    {
     "data": {
      "text/plain": [
       "0.5"
      ]
     },
     "execution_count": 4,
     "metadata": {},
     "output_type": "execute_result"
    }
   ],
   "source": [
    "textblob.TextBlob(\"Hello World I love you\").sentiment.polarity"
   ]
  },
  {
   "cell_type": "markdown",
   "metadata": {},
   "source": [
    "### Hackpad data"
   ]
  },
  {
   "cell_type": "markdown",
   "metadata": {},
   "source": [
    "#### Read data\n",
    "\n",
    "To do: Find a more automatic text-scraping method"
   ]
  },
  {
   "cell_type": "code",
   "execution_count": 5,
   "metadata": {
    "collapsed": true
   },
   "outputs": [],
   "source": [
    "textfile = \"../hackpadtext.txt\""
   ]
  },
  {
   "cell_type": "code",
   "execution_count": 6,
   "metadata": {
    "collapsed": false
   },
   "outputs": [],
   "source": [
    "rawdata = pd.read_csv(textfile, header=None, names=[\"text\"], sep=\"\\n\", encoding=\"utf-8\")"
   ]
  },
  {
   "cell_type": "markdown",
   "metadata": {},
   "source": [
    "#### Analyse \n",
    "Analyse and store polarity of each chunk"
   ]
  },
  {
   "cell_type": "code",
   "execution_count": 7,
   "metadata": {
    "collapsed": false
   },
   "outputs": [
    {
     "name": "stderr",
     "output_type": "stream",
     "text": [
      "/Library/Frameworks/Python.framework/Versions/2.7/lib/python2.7/site-packages/pandas/core/index.py:1149: VisibleDeprecationWarning: using a non-integer number instead of an integer will result in an error in the future\n",
      "  return getitem(key)\n"
     ]
    }
   ],
   "source": [
    "rawdata[\"polarity\"] = np.zeros_like(np.array(rawdata.columns[\"0\"]))"
   ]
  },
  {
   "cell_type": "code",
   "execution_count": 8,
   "metadata": {
    "collapsed": false
   },
   "outputs": [],
   "source": [
    "# analyse each data/hack idea\n",
    "feelings = []\n",
    "for i in rawdata.index:\n",
    "    data = rawdata.loc[i].values[0]\n",
    "    polarity = textblob.TextBlob(data).sentiment.polarity\n",
    "    rawdata.loc[i,\"polarity\"] = polarity\n",
    "    feelings.append(polarity)"
   ]
  },
  {
   "cell_type": "markdown",
   "metadata": {},
   "source": [
    "How happy are we on average?"
   ]
  },
  {
   "cell_type": "code",
   "execution_count": 9,
   "metadata": {
    "collapsed": false
   },
   "outputs": [
    {
     "name": "stdout",
     "output_type": "stream",
     "text": [
      "0.186349310623\n"
     ]
    }
   ],
   "source": [
    "average_feels = sum(feelings)/len(feelings)\n",
    "print(average_feels)"
   ]
  },
  {
   "cell_type": "code",
   "execution_count": 10,
   "metadata": {
    "collapsed": false
   },
   "outputs": [
    {
     "name": "stdout",
     "output_type": "stream",
     "text": [
      "Yay, we're happy! wooooooooooo!\n"
     ]
    }
   ],
   "source": [
    "if average_feels>0:\n",
    "    print(\"Yay, we're happy! wooooooooooo!\")\n",
    "else:\n",
    "    print(\"oh no not happy jan\")"
   ]
  },
  {
   "cell_type": "markdown",
   "metadata": {},
   "source": [
    "Who sounds sad?"
   ]
  },
  {
   "cell_type": "code",
   "execution_count": 11,
   "metadata": {
    "collapsed": false
   },
   "outputs": [
    {
     "data": {
      "text/html": [
       "<div>\n",
       "<table border=\"1\" class=\"dataframe\">\n",
       "  <thead>\n",
       "    <tr style=\"text-align: right;\">\n",
       "      <th></th>\n",
       "      <th>text</th>\n",
       "      <th>polarity</th>\n",
       "    </tr>\n",
       "  </thead>\n",
       "  <tbody>\n",
       "    <tr>\n",
       "      <th>11</th>\n",
       "      <td>Deprojecting Galaxies (or molecular structure)...</td>\n",
       "      <td>-0.0888889</td>\n",
       "    </tr>\n",
       "    <tr>\n",
       "      <th>16</th>\n",
       "      <td>Here's my ongoing failure in notebook form</td>\n",
       "      <td>-0.316667</td>\n",
       "    </tr>\n",
       "    <tr>\n",
       "      <th>24</th>\n",
       "      <td>Classifying the pulse shapes of pulsars using ...</td>\n",
       "      <td>-0.0218182</td>\n",
       "    </tr>\n",
       "    <tr>\n",
       "      <th>25</th>\n",
       "      <td>A custom Monte Carlo sampler for the Kepler pr...</td>\n",
       "      <td>-0.225952</td>\n",
       "    </tr>\n",
       "    <tr>\n",
       "      <th>39</th>\n",
       "      <td>Classifying the pulse shapes of pulsars using ...</td>\n",
       "      <td>-0.0218182</td>\n",
       "    </tr>\n",
       "    <tr>\n",
       "      <th>49</th>\n",
       "      <td>Modelling 2-D Impulse Response Function for Ac...</td>\n",
       "      <td>-0.129167</td>\n",
       "    </tr>\n",
       "    <tr>\n",
       "      <th>61</th>\n",
       "      <td>Managing Large Scale Structure Data with Datab...</td>\n",
       "      <td>-0.0111772</td>\n",
       "    </tr>\n",
       "    <tr>\n",
       "      <th>71</th>\n",
       "      <td>Neural Networks (Zaki Ali) - I'm working on a ...</td>\n",
       "      <td>-0.148864</td>\n",
       "    </tr>\n",
       "    <tr>\n",
       "      <th>79</th>\n",
       "      <td>Start with a single species (say FeII), conver...</td>\n",
       "      <td>-0.0107143</td>\n",
       "    </tr>\n",
       "    <tr>\n",
       "      <th>89</th>\n",
       "      <td>Bayesian networks for inference of young star ...</td>\n",
       "      <td>-0.11</td>\n",
       "    </tr>\n",
       "    <tr>\n",
       "      <th>92</th>\n",
       "      <td>Python API to perform SDSS SQL Queries: Sky Se...</td>\n",
       "      <td>-0.09375</td>\n",
       "    </tr>\n",
       "  </tbody>\n",
       "</table>\n",
       "</div>"
      ],
      "text/plain": [
       "                                                 text   polarity\n",
       "11  Deprojecting Galaxies (or molecular structure)... -0.0888889\n",
       "16        Here's my ongoing failure in notebook form   -0.316667\n",
       "24  Classifying the pulse shapes of pulsars using ... -0.0218182\n",
       "25  A custom Monte Carlo sampler for the Kepler pr...  -0.225952\n",
       "39  Classifying the pulse shapes of pulsars using ... -0.0218182\n",
       "49  Modelling 2-D Impulse Response Function for Ac...  -0.129167\n",
       "61  Managing Large Scale Structure Data with Datab... -0.0111772\n",
       "71  Neural Networks (Zaki Ali) - I'm working on a ...  -0.148864\n",
       "79  Start with a single species (say FeII), conver... -0.0107143\n",
       "89  Bayesian networks for inference of young star ...      -0.11\n",
       "92  Python API to perform SDSS SQL Queries: Sky Se...   -0.09375"
      ]
     },
     "execution_count": 11,
     "metadata": {},
     "output_type": "execute_result"
    }
   ],
   "source": [
    "# search for sad hacks\n",
    "rawdata[rawdata[\"polarity\"]<0]"
   ]
  },
  {
   "cell_type": "code",
   "execution_count": 12,
   "metadata": {
    "collapsed": false
   },
   "outputs": [],
   "source": [
    "# search for happy hacks\n",
    "#rawdata[rawdata[\"polarity\"]>0]"
   ]
  },
  {
   "cell_type": "code",
   "execution_count": 13,
   "metadata": {
    "collapsed": false
   },
   "outputs": [
    {
     "data": {
      "text/html": [
       "<div>\n",
       "<table border=\"1\" class=\"dataframe\">\n",
       "  <thead>\n",
       "    <tr style=\"text-align: right;\">\n",
       "      <th></th>\n",
       "      <th>text</th>\n",
       "      <th>polarity</th>\n",
       "    </tr>\n",
       "  </thead>\n",
       "  <tbody>\n",
       "    <tr>\n",
       "      <th>87</th>\n",
       "      <td>Lunch sounds good!</td>\n",
       "      <td>0.875</td>\n",
       "    </tr>\n",
       "    <tr>\n",
       "      <th>98</th>\n",
       "      <td>happy to chat about uncertainty and implementi...</td>\n",
       "      <td>0.8</td>\n",
       "    </tr>\n",
       "    <tr>\n",
       "      <th>85</th>\n",
       "      <td>A good point of reference: streams. Hope to jo...</td>\n",
       "      <td>0.7</td>\n",
       "    </tr>\n",
       "    <tr>\n",
       "      <th>51</th>\n",
       "      <td>Sure, sounds good!</td>\n",
       "      <td>0.6875</td>\n",
       "    </tr>\n",
       "    <tr>\n",
       "      <th>36</th>\n",
       "      <td>Brigitta Sipocz I updated the hack. let's make...</td>\n",
       "      <td>0.625</td>\n",
       "    </tr>\n",
       "  </tbody>\n",
       "</table>\n",
       "</div>"
      ],
      "text/plain": [
       "                                                 text polarity\n",
       "87                                 Lunch sounds good!    0.875\n",
       "98  happy to chat about uncertainty and implementi...      0.8\n",
       "85  A good point of reference: streams. Hope to jo...      0.7\n",
       "51                                 Sure, sounds good!   0.6875\n",
       "36  Brigitta Sipocz I updated the hack. let's make...    0.625"
      ]
     },
     "execution_count": 13,
     "metadata": {},
     "output_type": "execute_result"
    }
   ],
   "source": [
    "# Top Five Happy Hacks!\n",
    "rawdata.sort_values(\"polarity\")[::-1][:5]"
   ]
  },
  {
   "cell_type": "markdown",
   "metadata": {},
   "source": [
    "Wait... most of those sound like comments, not hacks!"
   ]
  },
  {
   "cell_type": "markdown",
   "metadata": {},
   "source": [
    "### Hackpad data (filtering out short comments)\n",
    "Now, we'll assume (hoping) that a chunk of text with more than 20 words is an actual hack project idea as opposed to a comment. This isn't always true, so there's room for improvement."
   ]
  },
  {
   "cell_type": "code",
   "execution_count": 14,
   "metadata": {
    "collapsed": true
   },
   "outputs": [],
   "source": [
    "rawdata[\"mask\"] = np.zeros_like(np.array(rawdata.columns[\"0\"]))"
   ]
  },
  {
   "cell_type": "code",
   "execution_count": 15,
   "metadata": {
    "collapsed": false
   },
   "outputs": [],
   "source": [
    "# select only \n",
    "for i in rawdata.index:\n",
    "    if len(rawdata.loc[i,\"text\"].split(\" \"))>20:\n",
    "        rawdata.loc[i,\"mask\"] = True\n",
    "    else:\n",
    "        rawdata.loc[i,\"mask\"] = False"
   ]
  },
  {
   "cell_type": "code",
   "execution_count": 16,
   "metadata": {
    "collapsed": true
   },
   "outputs": [],
   "source": [
    "hackdata = rawdata[rawdata[\"mask\"]]"
   ]
  },
  {
   "cell_type": "code",
   "execution_count": 17,
   "metadata": {
    "collapsed": false
   },
   "outputs": [
    {
     "data": {
      "text/html": [
       "<div>\n",
       "<table border=\"1\" class=\"dataframe\">\n",
       "  <thead>\n",
       "    <tr style=\"text-align: right;\">\n",
       "      <th></th>\n",
       "      <th>text</th>\n",
       "      <th>polarity</th>\n",
       "      <th>mask</th>\n",
       "    </tr>\n",
       "  </thead>\n",
       "  <tbody>\n",
       "    <tr>\n",
       "      <th>25</th>\n",
       "      <td>A custom Monte Carlo sampler for the Kepler pr...</td>\n",
       "      <td>-0.225952</td>\n",
       "      <td>True</td>\n",
       "    </tr>\n",
       "    <tr>\n",
       "      <th>71</th>\n",
       "      <td>Neural Networks (Zaki Ali) - I'm working on a ...</td>\n",
       "      <td>-0.148864</td>\n",
       "      <td>True</td>\n",
       "    </tr>\n",
       "    <tr>\n",
       "      <th>49</th>\n",
       "      <td>Modelling 2-D Impulse Response Function for Ac...</td>\n",
       "      <td>-0.129167</td>\n",
       "      <td>True</td>\n",
       "    </tr>\n",
       "    <tr>\n",
       "      <th>89</th>\n",
       "      <td>Bayesian networks for inference of young star ...</td>\n",
       "      <td>-0.11</td>\n",
       "      <td>True</td>\n",
       "    </tr>\n",
       "    <tr>\n",
       "      <th>92</th>\n",
       "      <td>Python API to perform SDSS SQL Queries: Sky Se...</td>\n",
       "      <td>-0.09375</td>\n",
       "      <td>True</td>\n",
       "    </tr>\n",
       "  </tbody>\n",
       "</table>\n",
       "</div>"
      ],
      "text/plain": [
       "                                                 text  polarity  mask\n",
       "25  A custom Monte Carlo sampler for the Kepler pr... -0.225952  True\n",
       "71  Neural Networks (Zaki Ali) - I'm working on a ... -0.148864  True\n",
       "49  Modelling 2-D Impulse Response Function for Ac... -0.129167  True\n",
       "89  Bayesian networks for inference of young star ...     -0.11  True\n",
       "92  Python API to perform SDSS SQL Queries: Sky Se...  -0.09375  True"
      ]
     },
     "execution_count": 17,
     "metadata": {},
     "output_type": "execute_result"
    }
   ],
   "source": [
    "#Top Five Sad Actually-Hacks (probably)\n",
    "hackdata.sort_values(\"polarity\")[:5]"
   ]
  },
  {
   "cell_type": "code",
   "execution_count": 18,
   "metadata": {
    "collapsed": false
   },
   "outputs": [
    {
     "data": {
      "text/html": [
       "<div>\n",
       "<table border=\"1\" class=\"dataframe\">\n",
       "  <thead>\n",
       "    <tr style=\"text-align: right;\">\n",
       "      <th></th>\n",
       "      <th>text</th>\n",
       "      <th>polarity</th>\n",
       "      <th>mask</th>\n",
       "    </tr>\n",
       "  </thead>\n",
       "  <tbody>\n",
       "    <tr>\n",
       "      <th>0</th>\n",
       "      <td>Gaussian Process Tutorial (Jake/Phil) We start...</td>\n",
       "      <td>0.625</td>\n",
       "      <td>True</td>\n",
       "    </tr>\n",
       "    <tr>\n",
       "      <th>82</th>\n",
       "      <td>Long-shot: if we finish the automatic velocity...</td>\n",
       "      <td>0.5</td>\n",
       "      <td>True</td>\n",
       "    </tr>\n",
       "    <tr>\n",
       "      <th>20</th>\n",
       "      <td>collaboratr (Mike Baumer,  Usman Khan, Casey L...</td>\n",
       "      <td>0.5</td>\n",
       "      <td>True</td>\n",
       "    </tr>\n",
       "    <tr>\n",
       "      <th>29</th>\n",
       "      <td>Create color palettes for custom queries (Adri...</td>\n",
       "      <td>0.5</td>\n",
       "      <td>True</td>\n",
       "    </tr>\n",
       "    <tr>\n",
       "      <th>50</th>\n",
       "      <td>You might want to take a look at Sherpa. Aneta...</td>\n",
       "      <td>0.4625</td>\n",
       "      <td>True</td>\n",
       "    </tr>\n",
       "  </tbody>\n",
       "</table>\n",
       "</div>"
      ],
      "text/plain": [
       "                                                 text polarity  mask\n",
       "0   Gaussian Process Tutorial (Jake/Phil) We start...    0.625  True\n",
       "82  Long-shot: if we finish the automatic velocity...      0.5  True\n",
       "20  collaboratr (Mike Baumer,  Usman Khan, Casey L...      0.5  True\n",
       "29  Create color palettes for custom queries (Adri...      0.5  True\n",
       "50  You might want to take a look at Sherpa. Aneta...   0.4625  True"
      ]
     },
     "execution_count": 18,
     "metadata": {},
     "output_type": "execute_result"
    }
   ],
   "source": [
    "# Top Five Happy Actually-Hacks (probably)\n",
    "hackdata.sort_values(\"polarity\")[::-1][:5]"
   ]
  },
  {
   "cell_type": "markdown",
   "metadata": {},
   "source": [
    "Repeat analysis from earlier"
   ]
  },
  {
   "cell_type": "code",
   "execution_count": 19,
   "metadata": {
    "collapsed": true
   },
   "outputs": [],
   "source": [
    "moarfeelings = []\n",
    "for i in hackdata.index:\n",
    "    data = hackdata.loc[i].values[0]\n",
    "    polarity = textblob.TextBlob(data).sentiment.polarity\n",
    "    moarfeelings.append(polarity)"
   ]
  },
  {
   "cell_type": "code",
   "execution_count": 20,
   "metadata": {
    "collapsed": false
   },
   "outputs": [
    {
     "name": "stdout",
     "output_type": "stream",
     "text": [
      "0.156783688455\n"
     ]
    }
   ],
   "source": [
    "average_feels = sum(moarfeelings)/len(moarfeelings)\n",
    "print(average_feels)"
   ]
  },
  {
   "cell_type": "code",
   "execution_count": 21,
   "metadata": {
    "collapsed": false
   },
   "outputs": [
    {
     "name": "stdout",
     "output_type": "stream",
     "text": [
      "YAY, WE'RE ACTUALLY HAPPY! wooooooooooo!\n"
     ]
    }
   ],
   "source": [
    "if average_feels>0:\n",
    "    print(\"YAY, WE'RE ACTUALLY HAPPY! wooooooooooo!\")\n",
    "else:\n",
    "    print(\"oh no we're actually sad\")"
   ]
  },
  {
   "cell_type": "code",
   "execution_count": null,
   "metadata": {
    "collapsed": true
   },
   "outputs": [],
   "source": []
  }
 ],
 "metadata": {
  "kernelspec": {
   "display_name": "Python 2",
   "language": "python",
   "name": "python2"
  },
  "language_info": {
   "codemirror_mode": {
    "name": "ipython",
    "version": 2
   },
   "file_extension": ".py",
   "mimetype": "text/x-python",
   "name": "python",
   "nbconvert_exporter": "python",
   "pygments_lexer": "ipython2",
   "version": "2.7.10"
  }
 },
 "nbformat": 4,
 "nbformat_minor": 0
}
