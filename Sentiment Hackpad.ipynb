{
 "cells": [
  {
   "cell_type": "code",
   "execution_count": 1,
   "metadata": {
    "collapsed": false
   },
   "outputs": [],
   "source": [
    "from __future__ import unicode_literals\n",
    "import textblob"
   ]
  },
  {
   "cell_type": "code",
   "execution_count": 2,
   "metadata": {
    "collapsed": false
   },
   "outputs": [
    {
     "name": "stdout",
     "output_type": "stream",
     "text": [
      "Requirement already satisfied (use --upgrade to upgrade): textblob in /Library/Frameworks/Python.framework/Versions/2.7/lib/python2.7/site-packages\r\n",
      "Requirement already satisfied (use --upgrade to upgrade): nltk>=3.1 in /Library/Frameworks/Python.framework/Versions/2.7/lib/python2.7/site-packages (from textblob)\r\n"
     ]
    }
   ],
   "source": [
    "!pip install textblob"
   ]
  },
  {
   "cell_type": "code",
   "execution_count": 3,
   "metadata": {
    "collapsed": false
   },
   "outputs": [],
   "source": [
    "polarity = textblob.TextBlob(\"Hello World :-()\").sentiment.polarity"
   ]
  },
  {
   "cell_type": "code",
   "execution_count": 4,
   "metadata": {
    "collapsed": false
   },
   "outputs": [
    {
     "name": "stdout",
     "output_type": "stream",
     "text": [
      "-0.75\n"
     ]
    }
   ],
   "source": [
    "print polarity"
   ]
  },
  {
   "cell_type": "code",
   "execution_count": 5,
   "metadata": {
    "collapsed": true
   },
   "outputs": [],
   "source": [
    "polarity = textblob.TextBlob(\"Hello World  I love you\").sentiment.polarity"
   ]
  },
  {
   "cell_type": "code",
   "execution_count": 6,
   "metadata": {
    "collapsed": false
   },
   "outputs": [
    {
     "name": "stdout",
     "output_type": "stream",
     "text": [
      "0.5\n"
     ]
    }
   ],
   "source": [
    "print polarity"
   ]
  },
  {
   "cell_type": "code",
   "execution_count": 7,
   "metadata": {
    "collapsed": true
   },
   "outputs": [],
   "source": [
    "hackpad = \"We started a notebook with an example of a scikit-learn gaussian process; we'd like to duplicate the result using numpy/scipy directly to better see how it works!\""
   ]
  },
  {
   "cell_type": "code",
   "execution_count": 8,
   "metadata": {
    "collapsed": false
   },
   "outputs": [
    {
     "name": "stdout",
     "output_type": "stream",
     "text": [
      "0.625\n"
     ]
    }
   ],
   "source": [
    "polarity = textblob.TextBlob(hackpad).sentiment.polarity\n",
    "print polarity"
   ]
  },
  {
   "cell_type": "code",
   "execution_count": 9,
   "metadata": {
    "collapsed": true
   },
   "outputs": [],
   "source": [
    "import pandas as pd"
   ]
  },
  {
   "cell_type": "code",
   "execution_count": 10,
   "metadata": {
    "collapsed": true
   },
   "outputs": [],
   "source": [
    "textfile = \"./hackpadtext.txt\""
   ]
  },
  {
   "cell_type": "code",
   "execution_count": 11,
   "metadata": {
    "collapsed": false
   },
   "outputs": [
    {
     "name": "stdout",
     "output_type": "stream",
     "text": [
      "                                                     0\n",
      "0    Gaussian Process Tutorial (Jake/Phil) We start...\n",
      "1    GalaxyZoo Deep Learning Tutorial/Challenge/Cod...\n",
      "2    HackDB Database Tutorial - (Project stub is he...\n",
      "3    AutoDiff Tutorial - (Kyle, ?) Project stub is ...\n",
      "4    Transdimensional fitting of 1D data using mixt...\n",
      "5    Accelerating correlation functions with GPUs (...\n",
      "6    We're making a TwitterBot! (Arna Karick @drarn...\n",
      "7    PYMC3 MCMC automatic Voigt Profile fitting -- ...\n",
      "8    Visualizing spectral fits (Zach Pace) - using ...\n",
      "9    Surveying Astronomers about their undergraduat...\n",
      "10   Take it! (please!): https://goo.gl/forms/8YoPW...\n",
      "11   Deprojecting Galaxies (or molecular structure)...\n",
      "12   Make pretty diverging colormaps (Adrian Price-...\n",
      "13   Cool! Related to this, and because I would lik...\n",
      "14                        Fun! improvments on seaborn?\n",
      "15    Here's a possible pair: http://imgur.com/a/lF6MM\n",
      "16         Here's my ongoing failure in notebook form \n",
      "17   Gaussian processes for inferring the density f...\n",
      "18   Searching for clustering throughout Gamma-ray ...\n",
      "19   Using Neural Networks for binary classificatio...\n",
      "20   collaboratr (Mike Baumer,  Usman Khan, Casey L...\n",
      "21                                Link to survey here.\n",
      "22    Github: https://github.com/benelson/collaboratr/\n",
      "23   Notebook: https://github.com/benelson/collabor...\n",
      "24   Classifying the pulse shapes of pulsars using ...\n",
      "25   A custom Monte Carlo sampler for the Kepler pr...\n",
      "26   Pull-request submitted for Jupyter Notebooks t...\n",
      "27   Low-count X-ray Source Detection (Rodolfo Mont...\n",
      "28   Hacking Sherpa (Daniela Huppenkothen, Aneta Si...\n",
      "29   Create color palettes for custom queries (Adri...\n",
      "..                                                 ...\n",
      "74   Teaching Travis Stats (Phil Marshall) - I teac...\n",
      "75   I remember seeing this done somewhere before, ...\n",
      "76   Languishing hacks of old (Casey Law) - A commo...\n",
      "77   Though it would not solve the problem of dying...\n",
      "78   PYMC3 MCMC (maybe RJMCMC?) automatically Voigt...\n",
      "79   Start with a single species (say FeII), conver...\n",
      "80   Decompose the combined ACD profile of FeII usi...\n",
      "81   Convert the combined ACD profile of FeII back ...\n",
      "82   Long-shot: if we finish the automatic velocity...\n",
      "83    Detecting and characterizing stellar substruc...\n",
      "84   I have some thoughts and would love to chat ab...\n",
      "85   A good point of reference: streams. Hope to jo...\n",
      "86   Maybe we can meet during breakfast or lunch to...\n",
      "87                                  Lunch sounds good!\n",
      "88   What to write in a code of conduct (CoC) / ant...\n",
      "89   Bayesian networks for inference of young star ...\n",
      "90   Interesting sounding project.  Lots of pieces ...\n",
      "91   Cool Jessie, I only got here today, and am sti...\n",
      "92   Python API to perform SDSS SQL Queries: Sky Se...\n",
      "93   We already have a class method for this in ast...\n",
      "94   http://astroquery.readthedocs.io/en/latest/api...\n",
      "95   Statistical Theory of Merging Ranked Lists: (M...\n",
      "96   Low-count X-ray Source Detection (Rodolfo Mont...\n",
      "97   Estimating Uncertainty in Directly Imaged Exop...\n",
      "98   happy to chat about uncertainty and implementi...\n",
      "99   Auto-documenting Altair/Vega-Lite (Jake Vander...\n",
      "100  More flexible PSFs for doing probabilistic cat...\n",
      "101  Bananaplots (Yu   Feng + Brigitta Sipocz). Whe...\n",
      "102  More flexible PSFs for doing probabilistic cat...\n",
      "103  I am interested in modeling mixtures of PSFs, ...\n",
      "\n",
      "[104 rows x 1 columns]\n"
     ]
    }
   ],
   "source": [
    "rawdata = pd.read_csv(textfile, header=None, sep=\"\\n\")\n",
    "print rawdata"
   ]
  },
  {
   "cell_type": "code",
   "execution_count": 12,
   "metadata": {
    "collapsed": false
   },
   "outputs": [
    {
     "data": {
      "text/plain": [
       "\"GalaxyZoo Deep Learning Tutorial/Challenge/Code Golf (Adam Becker, Sophia Milanov) \\xe2\\x80\\x94 Let's learn about machine learning by messing around with the GalaxyZoo dataset! There was a Kaggle competition  to create an automated galaxy classifier based on the GalaxyZoo data; the winning code  (explanation here ) does very well, but it takes days to initialize. I wonder if we can come up with an algorithm that does only a little worse (say, 10-15%), but initializes much faster. If we can't, then at least we can fail in an interesting way. UPDATE:  Watch Adam Becker learn machine learning in real time at https://github.com/freelanceastro/galactic-machine-learning/blob/master/Galaxy-Zoo-Machine-Learning.ipynb\""
      ]
     },
     "execution_count": 12,
     "metadata": {},
     "output_type": "execute_result"
    }
   ],
   "source": [
    "rawdata.loc[1].values[0]"
   ]
  },
  {
   "cell_type": "code",
   "execution_count": 15,
   "metadata": {
    "collapsed": false
   },
   "outputs": [
    {
     "name": "stdout",
     "output_type": "stream",
     "text": [
      "Gaussian Process Tutorial (Jake/Phil) We started a notebook with an example of a scikit-learn gaussian process; we'd like to duplicate the result using numpy/scipy directly to better see how it works! https://github.com/AstroHackWeek/AstroHackWeek2016/blob/master/breakouts/gaussian_process/GaussianProcessTasteTest.ipynb\n",
      "0.625\n",
      "GalaxyZoo Deep Learning Tutorial/Challenge/Code Golf (Adam Becker, Sophia Milanov) — Let's learn about machine learning by messing around with the GalaxyZoo dataset! There was a Kaggle competition  to create an automated galaxy classifier based on the GalaxyZoo data; the winning code  (explanation here ) does very well, but it takes days to initialize. I wonder if we can come up with an algorithm that does only a little worse (say, 10-15%), but initializes much faster. If we can't, then at least we can fail in an interesting way. UPDATE:  Watch Adam Becker learn machine learning in real time at https://github.com/freelanceastro/galactic-machine-learning/blob/master/Galaxy-Zoo-Machine-Learning.ipynb\n"
     ]
    },
    {
     "ename": "UnicodeDecodeError",
     "evalue": "'ascii' codec can't decode byte 0xe2 in position 83: ordinal not in range(128)",
     "output_type": "error",
     "traceback": [
      "\u001b[0;31m---------------------------------------------------------------------------\u001b[0m",
      "\u001b[0;31mUnicodeDecodeError\u001b[0m                        Traceback (most recent call last)",
      "\u001b[0;32m<ipython-input-15-ddddd6ed88af>\u001b[0m in \u001b[0;36m<module>\u001b[0;34m()\u001b[0m\n\u001b[1;32m      2\u001b[0m     \u001b[0mdata\u001b[0m \u001b[0;34m=\u001b[0m \u001b[0mrawdata\u001b[0m\u001b[0;34m.\u001b[0m\u001b[0mloc\u001b[0m\u001b[0;34m[\u001b[0m\u001b[0mi\u001b[0m\u001b[0;34m]\u001b[0m\u001b[0;34m.\u001b[0m\u001b[0mvalues\u001b[0m\u001b[0;34m[\u001b[0m\u001b[0;36m0\u001b[0m\u001b[0;34m]\u001b[0m\u001b[0;34m\u001b[0m\u001b[0m\n\u001b[1;32m      3\u001b[0m     \u001b[0;32mprint\u001b[0m \u001b[0mdata\u001b[0m\u001b[0;34m\u001b[0m\u001b[0m\n\u001b[0;32m----> 4\u001b[0;31m     \u001b[0mpolarity\u001b[0m \u001b[0;34m=\u001b[0m \u001b[0mtextblob\u001b[0m\u001b[0;34m.\u001b[0m\u001b[0mTextBlob\u001b[0m\u001b[0;34m(\u001b[0m\u001b[0mdata\u001b[0m\u001b[0;34m)\u001b[0m\u001b[0;34m.\u001b[0m\u001b[0msentiment\u001b[0m\u001b[0;34m.\u001b[0m\u001b[0mpolarity\u001b[0m\u001b[0;34m\u001b[0m\u001b[0m\n\u001b[0m\u001b[1;32m      5\u001b[0m     \u001b[0;32mprint\u001b[0m \u001b[0mpolarity\u001b[0m\u001b[0;34m\u001b[0m\u001b[0m\n",
      "\u001b[0;32m/Library/Frameworks/Python.framework/Versions/2.7/lib/python2.7/site-packages/textblob/decorators.pyc\u001b[0m in \u001b[0;36m__get__\u001b[0;34m(self, obj, cls)\u001b[0m\n\u001b[1;32m     22\u001b[0m         \u001b[0;32mif\u001b[0m \u001b[0mobj\u001b[0m \u001b[0;32mis\u001b[0m \u001b[0mNone\u001b[0m\u001b[0;34m:\u001b[0m\u001b[0;34m\u001b[0m\u001b[0m\n\u001b[1;32m     23\u001b[0m             \u001b[0;32mreturn\u001b[0m \u001b[0mself\u001b[0m\u001b[0;34m\u001b[0m\u001b[0m\n\u001b[0;32m---> 24\u001b[0;31m         \u001b[0mvalue\u001b[0m \u001b[0;34m=\u001b[0m \u001b[0mobj\u001b[0m\u001b[0;34m.\u001b[0m\u001b[0m__dict__\u001b[0m\u001b[0;34m[\u001b[0m\u001b[0mself\u001b[0m\u001b[0;34m.\u001b[0m\u001b[0mfunc\u001b[0m\u001b[0;34m.\u001b[0m\u001b[0m__name__\u001b[0m\u001b[0;34m]\u001b[0m \u001b[0;34m=\u001b[0m \u001b[0mself\u001b[0m\u001b[0;34m.\u001b[0m\u001b[0mfunc\u001b[0m\u001b[0;34m(\u001b[0m\u001b[0mobj\u001b[0m\u001b[0;34m)\u001b[0m\u001b[0;34m\u001b[0m\u001b[0m\n\u001b[0m\u001b[1;32m     25\u001b[0m         \u001b[0;32mreturn\u001b[0m \u001b[0mvalue\u001b[0m\u001b[0;34m\u001b[0m\u001b[0m\n\u001b[1;32m     26\u001b[0m \u001b[0;34m\u001b[0m\u001b[0m\n",
      "\u001b[0;32m/Library/Frameworks/Python.framework/Versions/2.7/lib/python2.7/site-packages/textblob/blob.pyc\u001b[0m in \u001b[0;36msentiment\u001b[0;34m(self)\u001b[0m\n\u001b[1;32m    404\u001b[0m         \u001b[0;34m:\u001b[0m\u001b[0mrtype\u001b[0m\u001b[0;34m:\u001b[0m \u001b[0mnamedtuple\u001b[0m \u001b[0mof\u001b[0m \u001b[0mthe\u001b[0m \u001b[0mform\u001b[0m \u001b[0;34m`\u001b[0m\u001b[0;34m`\u001b[0m\u001b[0mSentiment\u001b[0m\u001b[0;34m(\u001b[0m\u001b[0mpolarity\u001b[0m\u001b[0;34m,\u001b[0m \u001b[0msubjectivity\u001b[0m\u001b[0;34m)\u001b[0m\u001b[0;34m`\u001b[0m\u001b[0;34m`\u001b[0m\u001b[0;34m\u001b[0m\u001b[0m\n\u001b[1;32m    405\u001b[0m         \"\"\"\n\u001b[0;32m--> 406\u001b[0;31m         \u001b[0;32mreturn\u001b[0m \u001b[0mself\u001b[0m\u001b[0;34m.\u001b[0m\u001b[0manalyzer\u001b[0m\u001b[0;34m.\u001b[0m\u001b[0manalyze\u001b[0m\u001b[0;34m(\u001b[0m\u001b[0mself\u001b[0m\u001b[0;34m.\u001b[0m\u001b[0mraw\u001b[0m\u001b[0;34m)\u001b[0m\u001b[0;34m\u001b[0m\u001b[0m\n\u001b[0m\u001b[1;32m    407\u001b[0m \u001b[0;34m\u001b[0m\u001b[0m\n\u001b[1;32m    408\u001b[0m     \u001b[0;34m@\u001b[0m\u001b[0mcached_property\u001b[0m\u001b[0;34m\u001b[0m\u001b[0m\n",
      "\u001b[0;32m/Library/Frameworks/Python.framework/Versions/2.7/lib/python2.7/site-packages/textblob/en/sentiments.pyc\u001b[0m in \u001b[0;36manalyze\u001b[0;34m(self, text)\u001b[0m\n\u001b[1;32m     30\u001b[0m         \u001b[0;34m`\u001b[0m\u001b[0;34m`\u001b[0m\u001b[0mSentiment\u001b[0m\u001b[0;34m(\u001b[0m\u001b[0mpolarity\u001b[0m\u001b[0;34m,\u001b[0m \u001b[0msubjectivity\u001b[0m\u001b[0;34m)\u001b[0m\u001b[0;34m`\u001b[0m\u001b[0;34m`\u001b[0m\u001b[0;34m.\u001b[0m\u001b[0;34m\u001b[0m\u001b[0m\n\u001b[1;32m     31\u001b[0m         \"\"\"\n\u001b[0;32m---> 32\u001b[0;31m         \u001b[0;32mreturn\u001b[0m \u001b[0mself\u001b[0m\u001b[0;34m.\u001b[0m\u001b[0mRETURN_TYPE\u001b[0m\u001b[0;34m(\u001b[0m\u001b[0;34m*\u001b[0m\u001b[0mpattern_sentiment\u001b[0m\u001b[0;34m(\u001b[0m\u001b[0mtext\u001b[0m\u001b[0;34m)\u001b[0m\u001b[0;34m)\u001b[0m\u001b[0;34m\u001b[0m\u001b[0m\n\u001b[0m\u001b[1;32m     33\u001b[0m \u001b[0;34m\u001b[0m\u001b[0m\n\u001b[1;32m     34\u001b[0m \u001b[0;34m\u001b[0m\u001b[0m\n",
      "\u001b[0;32m/Library/Frameworks/Python.framework/Versions/2.7/lib/python2.7/site-packages/textblob/_text.pyc\u001b[0m in \u001b[0;36m__call__\u001b[0;34m(self, s, negation, **kwargs)\u001b[0m\n\u001b[1;32m    821\u001b[0m         \u001b[0;31m# Sentiment(\"a horrible movie\") => (-0.6, 1.0)\u001b[0m\u001b[0;34m\u001b[0m\u001b[0;34m\u001b[0m\u001b[0m\n\u001b[1;32m    822\u001b[0m         \u001b[0;32melif\u001b[0m \u001b[0misinstance\u001b[0m\u001b[0;34m(\u001b[0m\u001b[0ms\u001b[0m\u001b[0;34m,\u001b[0m \u001b[0mbasestring\u001b[0m\u001b[0;34m)\u001b[0m\u001b[0;34m:\u001b[0m\u001b[0;34m\u001b[0m\u001b[0m\n\u001b[0;32m--> 823\u001b[0;31m             \u001b[0ma\u001b[0m \u001b[0;34m=\u001b[0m \u001b[0mself\u001b[0m\u001b[0;34m.\u001b[0m\u001b[0massessments\u001b[0m\u001b[0;34m(\u001b[0m\u001b[0;34m(\u001b[0m\u001b[0;34m(\u001b[0m\u001b[0mw\u001b[0m\u001b[0;34m.\u001b[0m\u001b[0mlower\u001b[0m\u001b[0;34m(\u001b[0m\u001b[0;34m)\u001b[0m\u001b[0;34m,\u001b[0m \u001b[0mNone\u001b[0m\u001b[0;34m)\u001b[0m \u001b[0;32mfor\u001b[0m \u001b[0mw\u001b[0m \u001b[0;32min\u001b[0m \u001b[0;34m\" \"\u001b[0m\u001b[0;34m.\u001b[0m\u001b[0mjoin\u001b[0m\u001b[0;34m(\u001b[0m\u001b[0mself\u001b[0m\u001b[0;34m.\u001b[0m\u001b[0mtokenizer\u001b[0m\u001b[0;34m(\u001b[0m\u001b[0ms\u001b[0m\u001b[0;34m)\u001b[0m\u001b[0;34m)\u001b[0m\u001b[0;34m.\u001b[0m\u001b[0msplit\u001b[0m\u001b[0;34m(\u001b[0m\u001b[0;34m)\u001b[0m\u001b[0;34m)\u001b[0m\u001b[0;34m,\u001b[0m \u001b[0mnegation\u001b[0m\u001b[0;34m)\u001b[0m\u001b[0;34m\u001b[0m\u001b[0m\n\u001b[0m\u001b[1;32m    824\u001b[0m         \u001b[0;31m# A pattern.en.Text.\u001b[0m\u001b[0;34m\u001b[0m\u001b[0;34m\u001b[0m\u001b[0m\n\u001b[1;32m    825\u001b[0m         \u001b[0;32melif\u001b[0m \u001b[0mhasattr\u001b[0m\u001b[0;34m(\u001b[0m\u001b[0ms\u001b[0m\u001b[0;34m,\u001b[0m \u001b[0;34m\"sentences\"\u001b[0m\u001b[0;34m)\u001b[0m\u001b[0;34m:\u001b[0m\u001b[0;34m\u001b[0m\u001b[0m\n",
      "\u001b[0;32m/Library/Frameworks/Python.framework/Versions/2.7/lib/python2.7/site-packages/textblob/_text.pyc\u001b[0m in \u001b[0;36mfind_tokens\u001b[0;34m(self, string, **kwargs)\u001b[0m\n\u001b[1;32m   1171\u001b[0m         \"\"\"\n\u001b[1;32m   1172\u001b[0m         \u001b[0;31m# \"The cat purs.\" => [\"The cat purs .\"]\u001b[0m\u001b[0;34m\u001b[0m\u001b[0;34m\u001b[0m\u001b[0m\n\u001b[0;32m-> 1173\u001b[0;31m         return find_tokens(text_type(string),\n\u001b[0m\u001b[1;32m   1174\u001b[0m                 \u001b[0mpunctuation\u001b[0m \u001b[0;34m=\u001b[0m \u001b[0mkwargs\u001b[0m\u001b[0;34m.\u001b[0m\u001b[0mget\u001b[0m\u001b[0;34m(\u001b[0m  \u001b[0;34m\"punctuation\"\u001b[0m\u001b[0;34m,\u001b[0m \u001b[0mPUNCTUATION\u001b[0m\u001b[0;34m)\u001b[0m\u001b[0;34m,\u001b[0m\u001b[0;34m\u001b[0m\u001b[0m\n\u001b[1;32m   1175\u001b[0m               \u001b[0mabbreviations\u001b[0m \u001b[0;34m=\u001b[0m \u001b[0mkwargs\u001b[0m\u001b[0;34m.\u001b[0m\u001b[0mget\u001b[0m\u001b[0;34m(\u001b[0m\u001b[0;34m\"abbreviations\"\u001b[0m\u001b[0;34m,\u001b[0m \u001b[0mABBREVIATIONS\u001b[0m\u001b[0;34m)\u001b[0m\u001b[0;34m,\u001b[0m\u001b[0;34m\u001b[0m\u001b[0m\n",
      "\u001b[0;31mUnicodeDecodeError\u001b[0m: 'ascii' codec can't decode byte 0xe2 in position 83: ordinal not in range(128)"
     ]
    }
   ],
   "source": [
    "for i in rawdata.index:\n",
    "    data = rawdata.loc[i].values[0]\n",
    "    print data\n",
    "    polarity = textblob.TextBlob(data).sentiment.polarity\n",
    "    print polarity"
   ]
  },
  {
   "cell_type": "code",
   "execution_count": null,
   "metadata": {
    "collapsed": true
   },
   "outputs": [],
   "source": []
  }
 ],
 "metadata": {
  "kernelspec": {
   "display_name": "Python 2",
   "language": "python",
   "name": "python2"
  },
  "language_info": {
   "codemirror_mode": {
    "name": "ipython",
    "version": 2
   },
   "file_extension": ".py",
   "mimetype": "text/x-python",
   "name": "python",
   "nbconvert_exporter": "python",
   "pygments_lexer": "ipython2",
   "version": "2.7.10"
  }
 },
 "nbformat": 4,
 "nbformat_minor": 0
}
